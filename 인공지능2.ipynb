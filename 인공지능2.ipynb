{
  "nbformat": 4,
  "nbformat_minor": 0,
  "metadata": {
    "colab": {
      "name": "인공지능2.ipynb",
      "provenance": [],
      "collapsed_sections": [],
      "authorship_tag": "ABX9TyOxbNCGIBJDoyjjFiR7S7Ef",
      "include_colab_link": true
    },
    "kernelspec": {
      "name": "python3",
      "display_name": "Python 3"
    },
    "language_info": {
      "name": "python"
    }
  },
  "cells": [
    {
      "cell_type": "markdown",
      "metadata": {
        "id": "view-in-github",
        "colab_type": "text"
      },
      "source": [
        "<a href=\"https://colab.research.google.com/github/kshwan95/Machine-Learning/blob/main/%EC%9D%B8%EA%B3%B5%EC%A7%80%EB%8A%A52.ipynb\" target=\"_parent\"><img src=\"https://colab.research.google.com/assets/colab-badge.svg\" alt=\"Open In Colab\"/></a>"
      ]
    },
    {
      "cell_type": "code",
      "metadata": {
        "colab": {
          "base_uri": "https://localhost:8080/"
        },
        "id": "_nfsmiSwVnrt",
        "outputId": "15fee582-a1f7-4f7b-c121-8ae1ad17e9fa"
      },
      "source": [
        "from sklearn import datasets\n",
        "d= datasets.load_iris()\n",
        "print(d.DESCR)"
      ],
      "execution_count": null,
      "outputs": [
        {
          "output_type": "stream",
          "text": [
            ".. _iris_dataset:\n",
            "\n",
            "Iris plants dataset\n",
            "--------------------\n",
            "\n",
            "**Data Set Characteristics:**\n",
            "\n",
            "    :Number of Instances: 150 (50 in each of three classes)\n",
            "    :Number of Attributes: 4 numeric, predictive attributes and the class\n",
            "    :Attribute Information:\n",
            "        - sepal length in cm\n",
            "        - sepal width in cm\n",
            "        - petal length in cm\n",
            "        - petal width in cm\n",
            "        - class:\n",
            "                - Iris-Setosa\n",
            "                - Iris-Versicolour\n",
            "                - Iris-Virginica\n",
            "                \n",
            "    :Summary Statistics:\n",
            "\n",
            "    ============== ==== ==== ======= ===== ====================\n",
            "                    Min  Max   Mean    SD   Class Correlation\n",
            "    ============== ==== ==== ======= ===== ====================\n",
            "    sepal length:   4.3  7.9   5.84   0.83    0.7826\n",
            "    sepal width:    2.0  4.4   3.05   0.43   -0.4194\n",
            "    petal length:   1.0  6.9   3.76   1.76    0.9490  (high!)\n",
            "    petal width:    0.1  2.5   1.20   0.76    0.9565  (high!)\n",
            "    ============== ==== ==== ======= ===== ====================\n",
            "\n",
            "    :Missing Attribute Values: None\n",
            "    :Class Distribution: 33.3% for each of 3 classes.\n",
            "    :Creator: R.A. Fisher\n",
            "    :Donor: Michael Marshall (MARSHALL%PLU@io.arc.nasa.gov)\n",
            "    :Date: July, 1988\n",
            "\n",
            "The famous Iris database, first used by Sir R.A. Fisher. The dataset is taken\n",
            "from Fisher's paper. Note that it's the same as in R, but not as in the UCI\n",
            "Machine Learning Repository, which has two wrong data points.\n",
            "\n",
            "This is perhaps the best known database to be found in the\n",
            "pattern recognition literature.  Fisher's paper is a classic in the field and\n",
            "is referenced frequently to this day.  (See Duda & Hart, for example.)  The\n",
            "data set contains 3 classes of 50 instances each, where each class refers to a\n",
            "type of iris plant.  One class is linearly separable from the other 2; the\n",
            "latter are NOT linearly separable from each other.\n",
            "\n",
            ".. topic:: References\n",
            "\n",
            "   - Fisher, R.A. \"The use of multiple measurements in taxonomic problems\"\n",
            "     Annual Eugenics, 7, Part II, 179-188 (1936); also in \"Contributions to\n",
            "     Mathematical Statistics\" (John Wiley, NY, 1950).\n",
            "   - Duda, R.O., & Hart, P.E. (1973) Pattern Classification and Scene Analysis.\n",
            "     (Q327.D83) John Wiley & Sons.  ISBN 0-471-22361-1.  See page 218.\n",
            "   - Dasarathy, B.V. (1980) \"Nosing Around the Neighborhood: A New System\n",
            "     Structure and Classification Rule for Recognition in Partially Exposed\n",
            "     Environments\".  IEEE Transactions on Pattern Analysis and Machine\n",
            "     Intelligence, Vol. PAMI-2, No. 1, 67-71.\n",
            "   - Gates, G.W. (1972) \"The Reduced Nearest Neighbor Rule\".  IEEE Transactions\n",
            "     on Information Theory, May 1972, 431-433.\n",
            "   - See also: 1988 MLC Proceedings, 54-64.  Cheeseman et al\"s AUTOCLASS II\n",
            "     conceptual clustering system finds 3 classes in the data.\n",
            "   - Many, many more ...\n"
          ],
          "name": "stdout"
        }
      ]
    },
    {
      "cell_type": "code",
      "metadata": {
        "colab": {
          "base_uri": "https://localhost:8080/"
        },
        "id": "DjQyxDWyWbWN",
        "outputId": "4da0ef70-55a2-48c1-da47-fba72352a336"
      },
      "source": [
        "for i in range(0,len(d.data)):\n",
        "  print(i+1,d.data[i],d.target[i])"
      ],
      "execution_count": null,
      "outputs": [
        {
          "output_type": "stream",
          "text": [
            "1 [5.1 3.5 1.4 0.2] 0\n",
            "2 [4.9 3.  1.4 0.2] 0\n",
            "3 [4.7 3.2 1.3 0.2] 0\n",
            "4 [4.6 3.1 1.5 0.2] 0\n",
            "5 [5.  3.6 1.4 0.2] 0\n",
            "6 [5.4 3.9 1.7 0.4] 0\n",
            "7 [4.6 3.4 1.4 0.3] 0\n",
            "8 [5.  3.4 1.5 0.2] 0\n",
            "9 [4.4 2.9 1.4 0.2] 0\n",
            "10 [4.9 3.1 1.5 0.1] 0\n",
            "11 [5.4 3.7 1.5 0.2] 0\n",
            "12 [4.8 3.4 1.6 0.2] 0\n",
            "13 [4.8 3.  1.4 0.1] 0\n",
            "14 [4.3 3.  1.1 0.1] 0\n",
            "15 [5.8 4.  1.2 0.2] 0\n",
            "16 [5.7 4.4 1.5 0.4] 0\n",
            "17 [5.4 3.9 1.3 0.4] 0\n",
            "18 [5.1 3.5 1.4 0.3] 0\n",
            "19 [5.7 3.8 1.7 0.3] 0\n",
            "20 [5.1 3.8 1.5 0.3] 0\n",
            "21 [5.4 3.4 1.7 0.2] 0\n",
            "22 [5.1 3.7 1.5 0.4] 0\n",
            "23 [4.6 3.6 1.  0.2] 0\n",
            "24 [5.1 3.3 1.7 0.5] 0\n",
            "25 [4.8 3.4 1.9 0.2] 0\n",
            "26 [5.  3.  1.6 0.2] 0\n",
            "27 [5.  3.4 1.6 0.4] 0\n",
            "28 [5.2 3.5 1.5 0.2] 0\n",
            "29 [5.2 3.4 1.4 0.2] 0\n",
            "30 [4.7 3.2 1.6 0.2] 0\n",
            "31 [4.8 3.1 1.6 0.2] 0\n",
            "32 [5.4 3.4 1.5 0.4] 0\n",
            "33 [5.2 4.1 1.5 0.1] 0\n",
            "34 [5.5 4.2 1.4 0.2] 0\n",
            "35 [4.9 3.1 1.5 0.2] 0\n",
            "36 [5.  3.2 1.2 0.2] 0\n",
            "37 [5.5 3.5 1.3 0.2] 0\n",
            "38 [4.9 3.6 1.4 0.1] 0\n",
            "39 [4.4 3.  1.3 0.2] 0\n",
            "40 [5.1 3.4 1.5 0.2] 0\n",
            "41 [5.  3.5 1.3 0.3] 0\n",
            "42 [4.5 2.3 1.3 0.3] 0\n",
            "43 [4.4 3.2 1.3 0.2] 0\n",
            "44 [5.  3.5 1.6 0.6] 0\n",
            "45 [5.1 3.8 1.9 0.4] 0\n",
            "46 [4.8 3.  1.4 0.3] 0\n",
            "47 [5.1 3.8 1.6 0.2] 0\n",
            "48 [4.6 3.2 1.4 0.2] 0\n",
            "49 [5.3 3.7 1.5 0.2] 0\n",
            "50 [5.  3.3 1.4 0.2] 0\n",
            "51 [7.  3.2 4.7 1.4] 1\n",
            "52 [6.4 3.2 4.5 1.5] 1\n",
            "53 [6.9 3.1 4.9 1.5] 1\n",
            "54 [5.5 2.3 4.  1.3] 1\n",
            "55 [6.5 2.8 4.6 1.5] 1\n",
            "56 [5.7 2.8 4.5 1.3] 1\n",
            "57 [6.3 3.3 4.7 1.6] 1\n",
            "58 [4.9 2.4 3.3 1. ] 1\n",
            "59 [6.6 2.9 4.6 1.3] 1\n",
            "60 [5.2 2.7 3.9 1.4] 1\n",
            "61 [5.  2.  3.5 1. ] 1\n",
            "62 [5.9 3.  4.2 1.5] 1\n",
            "63 [6.  2.2 4.  1. ] 1\n",
            "64 [6.1 2.9 4.7 1.4] 1\n",
            "65 [5.6 2.9 3.6 1.3] 1\n",
            "66 [6.7 3.1 4.4 1.4] 1\n",
            "67 [5.6 3.  4.5 1.5] 1\n",
            "68 [5.8 2.7 4.1 1. ] 1\n",
            "69 [6.2 2.2 4.5 1.5] 1\n",
            "70 [5.6 2.5 3.9 1.1] 1\n",
            "71 [5.9 3.2 4.8 1.8] 1\n",
            "72 [6.1 2.8 4.  1.3] 1\n",
            "73 [6.3 2.5 4.9 1.5] 1\n",
            "74 [6.1 2.8 4.7 1.2] 1\n",
            "75 [6.4 2.9 4.3 1.3] 1\n",
            "76 [6.6 3.  4.4 1.4] 1\n",
            "77 [6.8 2.8 4.8 1.4] 1\n",
            "78 [6.7 3.  5.  1.7] 1\n",
            "79 [6.  2.9 4.5 1.5] 1\n",
            "80 [5.7 2.6 3.5 1. ] 1\n",
            "81 [5.5 2.4 3.8 1.1] 1\n",
            "82 [5.5 2.4 3.7 1. ] 1\n",
            "83 [5.8 2.7 3.9 1.2] 1\n",
            "84 [6.  2.7 5.1 1.6] 1\n",
            "85 [5.4 3.  4.5 1.5] 1\n",
            "86 [6.  3.4 4.5 1.6] 1\n",
            "87 [6.7 3.1 4.7 1.5] 1\n",
            "88 [6.3 2.3 4.4 1.3] 1\n",
            "89 [5.6 3.  4.1 1.3] 1\n",
            "90 [5.5 2.5 4.  1.3] 1\n",
            "91 [5.5 2.6 4.4 1.2] 1\n",
            "92 [6.1 3.  4.6 1.4] 1\n",
            "93 [5.8 2.6 4.  1.2] 1\n",
            "94 [5.  2.3 3.3 1. ] 1\n",
            "95 [5.6 2.7 4.2 1.3] 1\n",
            "96 [5.7 3.  4.2 1.2] 1\n",
            "97 [5.7 2.9 4.2 1.3] 1\n",
            "98 [6.2 2.9 4.3 1.3] 1\n",
            "99 [5.1 2.5 3.  1.1] 1\n",
            "100 [5.7 2.8 4.1 1.3] 1\n",
            "101 [6.3 3.3 6.  2.5] 2\n",
            "102 [5.8 2.7 5.1 1.9] 2\n",
            "103 [7.1 3.  5.9 2.1] 2\n",
            "104 [6.3 2.9 5.6 1.8] 2\n",
            "105 [6.5 3.  5.8 2.2] 2\n",
            "106 [7.6 3.  6.6 2.1] 2\n",
            "107 [4.9 2.5 4.5 1.7] 2\n",
            "108 [7.3 2.9 6.3 1.8] 2\n",
            "109 [6.7 2.5 5.8 1.8] 2\n",
            "110 [7.2 3.6 6.1 2.5] 2\n",
            "111 [6.5 3.2 5.1 2. ] 2\n",
            "112 [6.4 2.7 5.3 1.9] 2\n",
            "113 [6.8 3.  5.5 2.1] 2\n",
            "114 [5.7 2.5 5.  2. ] 2\n",
            "115 [5.8 2.8 5.1 2.4] 2\n",
            "116 [6.4 3.2 5.3 2.3] 2\n",
            "117 [6.5 3.  5.5 1.8] 2\n",
            "118 [7.7 3.8 6.7 2.2] 2\n",
            "119 [7.7 2.6 6.9 2.3] 2\n",
            "120 [6.  2.2 5.  1.5] 2\n",
            "121 [6.9 3.2 5.7 2.3] 2\n",
            "122 [5.6 2.8 4.9 2. ] 2\n",
            "123 [7.7 2.8 6.7 2. ] 2\n",
            "124 [6.3 2.7 4.9 1.8] 2\n",
            "125 [6.7 3.3 5.7 2.1] 2\n",
            "126 [7.2 3.2 6.  1.8] 2\n",
            "127 [6.2 2.8 4.8 1.8] 2\n",
            "128 [6.1 3.  4.9 1.8] 2\n",
            "129 [6.4 2.8 5.6 2.1] 2\n",
            "130 [7.2 3.  5.8 1.6] 2\n",
            "131 [7.4 2.8 6.1 1.9] 2\n",
            "132 [7.9 3.8 6.4 2. ] 2\n",
            "133 [6.4 2.8 5.6 2.2] 2\n",
            "134 [6.3 2.8 5.1 1.5] 2\n",
            "135 [6.1 2.6 5.6 1.4] 2\n",
            "136 [7.7 3.  6.1 2.3] 2\n",
            "137 [6.3 3.4 5.6 2.4] 2\n",
            "138 [6.4 3.1 5.5 1.8] 2\n",
            "139 [6.  3.  4.8 1.8] 2\n",
            "140 [6.9 3.1 5.4 2.1] 2\n",
            "141 [6.7 3.1 5.6 2.4] 2\n",
            "142 [6.9 3.1 5.1 2.3] 2\n",
            "143 [5.8 2.7 5.1 1.9] 2\n",
            "144 [6.8 3.2 5.9 2.3] 2\n",
            "145 [6.7 3.3 5.7 2.5] 2\n",
            "146 [6.7 3.  5.2 2.3] 2\n",
            "147 [6.3 2.5 5.  1.9] 2\n",
            "148 [6.5 3.  5.2 2. ] 2\n",
            "149 [6.2 3.4 5.4 2.3] 2\n",
            "150 [5.9 3.  5.1 1.8] 2\n"
          ],
          "name": "stdout"
        }
      ]
    },
    {
      "cell_type": "code",
      "metadata": {
        "colab": {
          "base_uri": "https://localhost:8080/"
        },
        "id": "05yNTLgLW269",
        "outputId": "daa0a47c-d745-43ba-8c5a-f28bfa2f3693"
      },
      "source": [
        "from sklearn import svm\n",
        "s = svm.SVC(gamma=0.1,C=10)\n",
        "s.fit(d.data,d.target)\n",
        "new_d=[[6.4,3.2,6.0,2.5],[7.1,3.1,4.7,1.35]]\n",
        "res= s.predict(new_d)\n",
        "print(\"새로운 2개 샘플의 부류는\",res)"
      ],
      "execution_count": null,
      "outputs": [
        {
          "output_type": "stream",
          "text": [
            "새로운 2개 샘플의 부류는 [2 1]\n"
          ],
          "name": "stdout"
        }
      ]
    },
    {
      "cell_type": "code",
      "metadata": {
        "colab": {
          "base_uri": "https://localhost:8080/",
          "height": 354
        },
        "id": "1pZ_gLdMZ30a",
        "outputId": "6ad5afc7-3095-4e93-fb6b-5542720aa746"
      },
      "source": [
        "import plotly.express as px\n",
        "df = px.data.iris()\n",
        "fig = px.scatter_3d(df,x='sepal_length',y='sepal_width',z='petal_width',color='species')\n",
        "fig.show(renderer=\"browser\")"
      ],
      "execution_count": null,
      "outputs": [
        {
          "output_type": "error",
          "ename": "Error",
          "evalue": "ignored",
          "traceback": [
            "\u001b[0;31m---------------------------------------------------------------------------\u001b[0m",
            "\u001b[0;31mError\u001b[0m                                     Traceback (most recent call last)",
            "\u001b[0;32m<ipython-input-11-87002e1f9e61>\u001b[0m in \u001b[0;36m<module>\u001b[0;34m()\u001b[0m\n\u001b[1;32m      2\u001b[0m \u001b[0mdf\u001b[0m \u001b[0;34m=\u001b[0m \u001b[0mpx\u001b[0m\u001b[0;34m.\u001b[0m\u001b[0mdata\u001b[0m\u001b[0;34m.\u001b[0m\u001b[0miris\u001b[0m\u001b[0;34m(\u001b[0m\u001b[0;34m)\u001b[0m\u001b[0;34m\u001b[0m\u001b[0;34m\u001b[0m\u001b[0m\n\u001b[1;32m      3\u001b[0m \u001b[0mfig\u001b[0m \u001b[0;34m=\u001b[0m \u001b[0mpx\u001b[0m\u001b[0;34m.\u001b[0m\u001b[0mscatter_3d\u001b[0m\u001b[0;34m(\u001b[0m\u001b[0mdf\u001b[0m\u001b[0;34m,\u001b[0m\u001b[0mx\u001b[0m\u001b[0;34m=\u001b[0m\u001b[0;34m'sepal_length'\u001b[0m\u001b[0;34m,\u001b[0m\u001b[0my\u001b[0m\u001b[0;34m=\u001b[0m\u001b[0;34m'sepal_width'\u001b[0m\u001b[0;34m,\u001b[0m\u001b[0mz\u001b[0m\u001b[0;34m=\u001b[0m\u001b[0;34m'petal_width'\u001b[0m\u001b[0;34m,\u001b[0m\u001b[0mcolor\u001b[0m\u001b[0;34m=\u001b[0m\u001b[0;34m'species'\u001b[0m\u001b[0;34m)\u001b[0m\u001b[0;34m\u001b[0m\u001b[0;34m\u001b[0m\u001b[0m\n\u001b[0;32m----> 4\u001b[0;31m \u001b[0mfig\u001b[0m\u001b[0;34m.\u001b[0m\u001b[0mshow\u001b[0m\u001b[0;34m(\u001b[0m\u001b[0mrenderer\u001b[0m\u001b[0;34m=\u001b[0m\u001b[0;34m\"browser\"\u001b[0m\u001b[0;34m)\u001b[0m\u001b[0;34m\u001b[0m\u001b[0;34m\u001b[0m\u001b[0m\n\u001b[0m",
            "\u001b[0;32m/usr/local/lib/python3.7/dist-packages/plotly/basedatatypes.py\u001b[0m in \u001b[0;36mshow\u001b[0;34m(self, *args, **kwargs)\u001b[0m\n\u001b[1;32m   2792\u001b[0m         \u001b[0;32mimport\u001b[0m \u001b[0mplotly\u001b[0m\u001b[0;34m.\u001b[0m\u001b[0mio\u001b[0m \u001b[0;32mas\u001b[0m \u001b[0mpio\u001b[0m\u001b[0;34m\u001b[0m\u001b[0;34m\u001b[0m\u001b[0m\n\u001b[1;32m   2793\u001b[0m \u001b[0;34m\u001b[0m\u001b[0m\n\u001b[0;32m-> 2794\u001b[0;31m         \u001b[0;32mreturn\u001b[0m \u001b[0mpio\u001b[0m\u001b[0;34m.\u001b[0m\u001b[0mshow\u001b[0m\u001b[0;34m(\u001b[0m\u001b[0mself\u001b[0m\u001b[0;34m,\u001b[0m \u001b[0;34m*\u001b[0m\u001b[0margs\u001b[0m\u001b[0;34m,\u001b[0m \u001b[0;34m**\u001b[0m\u001b[0mkwargs\u001b[0m\u001b[0;34m)\u001b[0m\u001b[0;34m\u001b[0m\u001b[0;34m\u001b[0m\u001b[0m\n\u001b[0m\u001b[1;32m   2795\u001b[0m \u001b[0;34m\u001b[0m\u001b[0m\n\u001b[1;32m   2796\u001b[0m     \u001b[0;32mdef\u001b[0m \u001b[0mto_json\u001b[0m\u001b[0;34m(\u001b[0m\u001b[0mself\u001b[0m\u001b[0;34m,\u001b[0m \u001b[0;34m*\u001b[0m\u001b[0margs\u001b[0m\u001b[0;34m,\u001b[0m \u001b[0;34m**\u001b[0m\u001b[0mkwargs\u001b[0m\u001b[0;34m)\u001b[0m\u001b[0;34m:\u001b[0m\u001b[0;34m\u001b[0m\u001b[0;34m\u001b[0m\u001b[0m\n",
            "\u001b[0;32m/usr/local/lib/python3.7/dist-packages/plotly/io/_renderers.py\u001b[0m in \u001b[0;36mshow\u001b[0;34m(fig, renderer, validate, **kwargs)\u001b[0m\n\u001b[1;32m    389\u001b[0m \u001b[0;34m\u001b[0m\u001b[0m\n\u001b[1;32m    390\u001b[0m     \u001b[0;31m# external renderers\u001b[0m\u001b[0;34m\u001b[0m\u001b[0;34m\u001b[0m\u001b[0;34m\u001b[0m\u001b[0m\n\u001b[0;32m--> 391\u001b[0;31m     \u001b[0mrenderers\u001b[0m\u001b[0;34m.\u001b[0m\u001b[0m_perform_external_rendering\u001b[0m\u001b[0;34m(\u001b[0m\u001b[0mfig_dict\u001b[0m\u001b[0;34m,\u001b[0m \u001b[0mrenderers_string\u001b[0m\u001b[0;34m=\u001b[0m\u001b[0mrenderer\u001b[0m\u001b[0;34m,\u001b[0m \u001b[0;34m**\u001b[0m\u001b[0mkwargs\u001b[0m\u001b[0;34m)\u001b[0m\u001b[0;34m\u001b[0m\u001b[0;34m\u001b[0m\u001b[0m\n\u001b[0m\u001b[1;32m    392\u001b[0m \u001b[0;34m\u001b[0m\u001b[0m\n\u001b[1;32m    393\u001b[0m \u001b[0;34m\u001b[0m\u001b[0m\n",
            "\u001b[0;32m/usr/local/lib/python3.7/dist-packages/plotly/io/_renderers.py\u001b[0m in \u001b[0;36m_perform_external_rendering\u001b[0;34m(self, fig_dict, renderers_string, **kwargs)\u001b[0m\n\u001b[1;32m    338\u001b[0m                         \u001b[0msetattr\u001b[0m\u001b[0;34m(\u001b[0m\u001b[0mrenderer\u001b[0m\u001b[0;34m,\u001b[0m \u001b[0mk\u001b[0m\u001b[0;34m,\u001b[0m \u001b[0mv\u001b[0m\u001b[0;34m)\u001b[0m\u001b[0;34m\u001b[0m\u001b[0;34m\u001b[0m\u001b[0m\n\u001b[1;32m    339\u001b[0m \u001b[0;34m\u001b[0m\u001b[0m\n\u001b[0;32m--> 340\u001b[0;31m                 \u001b[0mrenderer\u001b[0m\u001b[0;34m.\u001b[0m\u001b[0mrender\u001b[0m\u001b[0;34m(\u001b[0m\u001b[0mfig_dict\u001b[0m\u001b[0;34m)\u001b[0m\u001b[0;34m\u001b[0m\u001b[0;34m\u001b[0m\u001b[0m\n\u001b[0m\u001b[1;32m    341\u001b[0m \u001b[0;34m\u001b[0m\u001b[0m\n\u001b[1;32m    342\u001b[0m \u001b[0;34m\u001b[0m\u001b[0m\n",
            "\u001b[0;32m/usr/local/lib/python3.7/dist-packages/plotly/io/_base_renderers.py\u001b[0m in \u001b[0;36mrender\u001b[0;34m(self, fig_dict)\u001b[0m\n\u001b[1;32m    734\u001b[0m             \u001b[0mvalidate\u001b[0m\u001b[0;34m=\u001b[0m\u001b[0;32mFalse\u001b[0m\u001b[0;34m,\u001b[0m\u001b[0;34m\u001b[0m\u001b[0;34m\u001b[0m\u001b[0m\n\u001b[1;32m    735\u001b[0m         )\n\u001b[0;32m--> 736\u001b[0;31m         \u001b[0mopen_html_in_browser\u001b[0m\u001b[0;34m(\u001b[0m\u001b[0mhtml\u001b[0m\u001b[0;34m,\u001b[0m \u001b[0mself\u001b[0m\u001b[0;34m.\u001b[0m\u001b[0musing\u001b[0m\u001b[0;34m,\u001b[0m \u001b[0mself\u001b[0m\u001b[0;34m.\u001b[0m\u001b[0mnew\u001b[0m\u001b[0;34m,\u001b[0m \u001b[0mself\u001b[0m\u001b[0;34m.\u001b[0m\u001b[0mautoraise\u001b[0m\u001b[0;34m)\u001b[0m\u001b[0;34m\u001b[0m\u001b[0;34m\u001b[0m\u001b[0m\n\u001b[0m\u001b[1;32m    737\u001b[0m \u001b[0;34m\u001b[0m\u001b[0m\n\u001b[1;32m    738\u001b[0m \u001b[0;34m\u001b[0m\u001b[0m\n",
            "\u001b[0;32m/usr/local/lib/python3.7/dist-packages/plotly/io/_base_renderers.py\u001b[0m in \u001b[0;36mopen_html_in_browser\u001b[0;34m(html, using, new, autoraise)\u001b[0m\n\u001b[1;32m    679\u001b[0m \u001b[0;34m\u001b[0m\u001b[0m\n\u001b[1;32m    680\u001b[0m     \u001b[0mserver\u001b[0m \u001b[0;34m=\u001b[0m \u001b[0mHTTPServer\u001b[0m\u001b[0;34m(\u001b[0m\u001b[0;34m(\u001b[0m\u001b[0;34m\"127.0.0.1\"\u001b[0m\u001b[0;34m,\u001b[0m \u001b[0;36m0\u001b[0m\u001b[0;34m)\u001b[0m\u001b[0;34m,\u001b[0m \u001b[0mOneShotRequestHandler\u001b[0m\u001b[0;34m)\u001b[0m\u001b[0;34m\u001b[0m\u001b[0;34m\u001b[0m\u001b[0m\n\u001b[0;32m--> 681\u001b[0;31m     webbrowser.get(using).open(\n\u001b[0m\u001b[1;32m    682\u001b[0m         \u001b[0;34m\"http://127.0.0.1:%s\"\u001b[0m \u001b[0;34m%\u001b[0m \u001b[0mserver\u001b[0m\u001b[0;34m.\u001b[0m\u001b[0mserver_port\u001b[0m\u001b[0;34m,\u001b[0m \u001b[0mnew\u001b[0m\u001b[0;34m=\u001b[0m\u001b[0mnew\u001b[0m\u001b[0;34m,\u001b[0m \u001b[0mautoraise\u001b[0m\u001b[0;34m=\u001b[0m\u001b[0mautoraise\u001b[0m\u001b[0;34m\u001b[0m\u001b[0;34m\u001b[0m\u001b[0m\n\u001b[1;32m    683\u001b[0m     )\n",
            "\u001b[0;32m/usr/lib/python3.7/webbrowser.py\u001b[0m in \u001b[0;36mget\u001b[0;34m(using)\u001b[0m\n\u001b[1;32m     63\u001b[0m             \u001b[0;32melif\u001b[0m \u001b[0mcommand\u001b[0m\u001b[0;34m[\u001b[0m\u001b[0;36m0\u001b[0m\u001b[0;34m]\u001b[0m \u001b[0;32mis\u001b[0m \u001b[0;32mnot\u001b[0m \u001b[0;32mNone\u001b[0m\u001b[0;34m:\u001b[0m\u001b[0;34m\u001b[0m\u001b[0;34m\u001b[0m\u001b[0m\n\u001b[1;32m     64\u001b[0m                 \u001b[0;32mreturn\u001b[0m \u001b[0mcommand\u001b[0m\u001b[0;34m[\u001b[0m\u001b[0;36m0\u001b[0m\u001b[0;34m]\u001b[0m\u001b[0;34m(\u001b[0m\u001b[0;34m)\u001b[0m\u001b[0;34m\u001b[0m\u001b[0;34m\u001b[0m\u001b[0m\n\u001b[0;32m---> 65\u001b[0;31m     \u001b[0;32mraise\u001b[0m \u001b[0mError\u001b[0m\u001b[0;34m(\u001b[0m\u001b[0;34m\"could not locate runnable browser\"\u001b[0m\u001b[0;34m)\u001b[0m\u001b[0;34m\u001b[0m\u001b[0;34m\u001b[0m\u001b[0m\n\u001b[0m\u001b[1;32m     66\u001b[0m \u001b[0;34m\u001b[0m\u001b[0m\n\u001b[1;32m     67\u001b[0m \u001b[0;31m# Please note: the following definition hides a builtin function.\u001b[0m\u001b[0;34m\u001b[0m\u001b[0;34m\u001b[0m\u001b[0;34m\u001b[0m\u001b[0m\n",
            "\u001b[0;31mError\u001b[0m: could not locate runnable browser"
          ]
        }
      ]
    },
    {
      "cell_type": "code",
      "metadata": {
        "colab": {
          "base_uri": "https://localhost:8080/",
          "height": 408
        },
        "id": "vNvKiFS1fz9-",
        "outputId": "73ad46d3-699a-4b9d-85da-aac73ae6e23e"
      },
      "source": [
        "# 필기 숫자 데이터\n",
        "from sklearn import  datasets\n",
        "import matplotlib.pyplot as plt\n",
        "digit = datasets.load_digits()\n",
        "plt.figure(figsize=(5,5))\n",
        "plt.imshow(digit.images[0],cmap=plt.cm.gray_r,interpolation='nearest')\n",
        "plt.show()\n",
        "print(digit.data[0])\n",
        "print(\"이 숫자는\",digit.target[0],\"입니다\")"
      ],
      "execution_count": null,
      "outputs": [
        {
          "output_type": "display_data",
          "data": {
            "image/png": "[encoded data removed]",
            "text/plain": [
              "<Figure size 360x360 with 1 Axes>"
            ]
          },
          "metadata": {
            "tags": [],
            "needs_background": "light"
          }
        },
        {
          "output_type": "stream",
          "text": [
            "[ 0.  0.  5. 13.  9.  1.  0.  0.  0.  0. 13. 15. 10. 15.  5.  0.  0.  3.\n",
            " 15.  2.  0. 11.  8.  0.  0.  4. 12.  0.  0.  8.  8.  0.  0.  5.  8.  0.\n",
            "  0.  9.  8.  0.  0.  4. 11.  0.  1. 12.  7.  0.  0.  2. 14.  5. 10. 12.\n",
            "  0.  0.  0.  0.  6. 13. 10.  0.  0.  0.]\n",
            "이 숫자는 0 입니다\n"
          ],
          "name": "stdout"
        }
      ]
    },
    {
      "cell_type": "code",
      "metadata": {
        "colab": {
          "base_uri": "https://localhost:8080/",
          "height": 960
        },
        "id": "wwBOcu-Lg2oT",
        "outputId": "a9af5ea9-8289-43be-86dd-828a8b69d9a8"
      },
      "source": [
        "#Ifw 유명인 얼굴 데이터셋\n",
        "lfw= datasets.fetch_lfw_people(min_faces_per_person=70,resize=0.4)\n",
        "plt.figure(figsize=(20,5))\n",
        "for i in range(8):\n",
        "  plt.subplot(1,8,i+1)\n",
        "  plt.imshow(lfw.images[i],cmap=plt.cm.bone)\n",
        "  plt.title(lfw.target_names[lfw.target[i]])\n",
        "  plt.show()"
      ],
      "execution_count": null,
      "outputs": [
        {
          "output_type": "stream",
          "text": [
            "Downloading LFW metadata: https://ndownloader.figshare.com/files/5976012\n",
            "Downloading LFW metadata: https://ndownloader.figshare.com/files/5976009\n",
            "Downloading LFW metadata: https://ndownloader.figshare.com/files/5976006\n",
            "Downloading LFW data (~200MB): https://ndownloader.figshare.com/files/5976015\n"
          ],
          "name": "stderr"
        },
        {
          "output_type": "display_data",
          "data": {
            "image/png": "[encoded data removed]",
            "text/plain": [
              "<Figure size 1440x360 with 1 Axes>"
            ]
          },
          "metadata": {
            "tags": [],
            "needs_background": "light"
          }
        },
        {
          "output_type": "display_data",
          "data": {
            "image/png": "[encoded data removed]",
            "text/plain": [
              "<Figure size 432x288 with 1 Axes>"
            ]
          },
          "metadata": {
            "tags": [],
            "needs_background": "light"
          }
        },
        {
          "output_type": "display_data",
          "data": {
            "image/png": "[encoded data removed]",
            "text/plain": [
              "<Figure size 432x288 with 1 Axes>"
            ]
          },
          "metadata": {
            "tags": [],
            "needs_background": "light"
          }
        },
        {
          "output_type": "display_data",
          "data": {
            "image/png": "[encoded data removed]",
            "text/plain": [
              "<Figure size 432x288 with 1 Axes>"
            ]
          },
          "metadata": {
            "tags": [],
            "needs_background": "light"
          }
        },
        {
          "output_type": "display_data",
          "data": {
            "image/png": "[encoded data removed]",
            "text/plain": [
              "<Figure size 432x288 with 1 Axes>"
            ]
          },
          "metadata": {
            "tags": [],
            "needs_background": "light"
          }
        },
        {
          "output_type": "display_data",
          "data": {
            "image/png": "[encoded data removed]",
            "text/plain": [
              "<Figure size 432x288 with 1 Axes>"
            ]
          },
          "metadata": {
            "tags": [],
            "needs_background": "light"
          }
        },
        {
          "output_type": "display_data",
          "data": {
            "image/png": "[encoded data removed]",
            "text/plain": [
              "<Figure size 432x288 with 1 Axes>"
            ]
          },
          "metadata": {
            "tags": [],
            "needs_background": "light"
          }
        },
        {
          "output_type": "display_data",
          "data": {
            "image/png": "[encoded data removed]",
            "text/plain": [
              "<Figure size 432x288 with 1 Axes>"
            ]
          },
          "metadata": {
            "tags": [],
            "needs_background": "light"
          }
        }
      ]
    },
    {
      "cell_type": "code",
      "metadata": {
        "colab": {
          "base_uri": "https://localhost:8080/"
        },
        "id": "IMN1M-_2hy_N",
        "outputId": "c1dd36aa-6676-427d-ab3c-eb9c40c2eb15"
      },
      "source": [
        "#20newsgroups 데이터 셋\n",
        "news = datasets.fetch_20newsgroups(subset='train')\n",
        "print(\"*****\\n\",news.data[0],'\\n*****')\n",
        "print(\"이 문서의 분류는<\",news.target_names[news.target[0]],\">입니다\")"
      ],
      "execution_count": null,
      "outputs": [
        {
          "output_type": "stream",
          "text": [
            "*****\n",
            " From: lerxst@wam.umd.edu (where's my thing)\n",
            "Subject: WHAT car is this!?\n",
            "Nntp-Posting-Host: rac3.wam.umd.edu\n",
            "Organization: University of Maryland, College Park\n",
            "Lines: 15\n",
            "\n",
            " I was wondering if anyone out there could enlighten me on this car I saw\n",
            "the other day. It was a 2-door sports car, looked to be from the late 60s/\n",
            "early 70s. It was called a Bricklin. The doors were really small. In addition,\n",
            "the front bumper was separate from the rest of the body. This is \n",
            "all I know. If anyone can tellme a model name, engine specs, years\n",
            "of production, where this car is made, history, or whatever info you\n",
            "have on this funky looking car, please e-mail.\n",
            "\n",
            "Thanks,\n",
            "- IL\n",
            "   ---- brought to you by your neighborhood Lerxst ----\n",
            "\n",
            "\n",
            "\n",
            "\n",
            " \n",
            "*****\n",
            "이 문서의 분류는< rec.autos >입니다\n"
          ],
          "name": "stdout"
        }
      ]
    },
    {
      "cell_type": "code",
      "metadata": {
        "id": "APBYvK07iXSC"
      },
      "source": [
        ""
      ],
      "execution_count": null,
      "outputs": []
    }
  ]
}