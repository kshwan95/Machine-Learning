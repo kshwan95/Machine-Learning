{
  "nbformat": 4,
  "nbformat_minor": 0,
  "metadata": {
    "colab": {
      "name": "인공지능2.ipynb",
      "provenance": [],
      "collapsed_sections": [],
      "authorship_tag": "ABX9TyMCEGuawHVAJ69y4MTtC/Wk",
      "include_colab_link": true
    },
    "kernelspec": {
      "name": "python3",
      "display_name": "Python 3"
    },
    "language_info": {
      "name": "python"
    }
  },
  "cells": [
    {
      "cell_type": "markdown",
      "metadata": {
        "id": "view-in-github",
        "colab_type": "text"
      },
      "source": [
        "<a href=\"https://colab.research.google.com/github/kshwan95/Machine-Learning/blob/main/%EC%9D%B8%EA%B3%B5%EC%A7%80%EB%8A%A52.ipynb\" target=\"_parent\"><img src=\"https://colab.research.google.com/assets/colab-badge.svg\" alt=\"Open In Colab\"/></a>"
      ]
    },
    {
      "cell_type": "code",
      "metadata": {
        "colab": {
          "base_uri": "https://localhost:8080/"
        },
        "id": "Ds-FOEI3RGXo",
        "outputId": "87d75e11-c5e7-4076-f28a-4d3553e31d90"
      },
      "source": [
        "import time\n",
        "start = time.time()\n",
        "sum=0\n",
        "for i in range(1,100000001):\n",
        "  sum=sum+i\n",
        "end=time.time()\n",
        "print('합',sum)\n",
        "print('소요시간',end-start,'초입니다')"
      ],
      "execution_count": null,
      "outputs": [
        {
          "output_type": "stream",
          "text": [
            "합 5000000050000000\n",
            "소요시간 12.733511924743652 초입니다\n"
          ],
          "name": "stdout"
        }
      ]
    },
    {
      "cell_type": "code",
      "metadata": {
        "colab": {
          "base_uri": "https://localhost:8080/"
        },
        "id": "q9noQ0B3RtDF",
        "outputId": "d948aec4-c780-4d59-b9f3-8fec259ab253"
      },
      "source": [
        "from datetime import datetime\n",
        "\n",
        "#경기 결과 입력 받는곳\n",
        "place = input(\"경기가 열린 곳은?\")\n",
        "time = input(\"경기가 열리는 시간은?\")\n",
        "opponent=input(\"상대팅은?\")\n",
        "goals=input(\"손흥민은 몇 골을 넣었나요?\")\n",
        "aids=input(\"도움은 몇 개인가요?\")\n",
        "score_me=input(\"손흥민 팀이 넣은 골 수는?\")\n",
        "score_you=input(\"상대 팀이 넣은 골 수는?\")\n",
        "\n",
        "#기사 작성하는 곳\n",
        "news=\"[프리미어 리그 속보(\"+str(datetime.now())+\")]\\n\"\n",
        "news=news+\"손흥민 선수는\"+place+\"에서\"+time+\"에 열린 경기에 출전하였습니다.\"\n",
        "news=news+\"상대팀은\"+opponent+\"입니다\"\n",
        "\n",
        "if score_me>score_you:\n",
        "  news=news+\"손흥민 선수의 팀이\"+score_me+\"골을 넣어\"+scoㅔre_you+\"골을 넣은 상대 팀을 이겼습니다.\"\n",
        "elif score_me<score_you:\n",
        "  news=news+\"손흥민 선수의 팀이\"+score_me+\"골을 넣어\"+score_you+\"골을 넣은 상대팀에 졌습니다.\"\n",
        "\n",
        "if int(goals)>0 and int(aids)>0:\n",
        "  news=news+\"손흥민 선수는\"+goals+\"골에 도움\"+aids+\"개로 승리를 크게 이끌었습니다.\"\n",
        "elif int(goals)>0 and int(aids)==0:\n",
        "  news=news+\"손흥민 선수는\"+goals+\"골로 승리를 크게 이끌었습니다.\"\n",
        "elif int(goals)==0 and int(aids)>0:\n",
        "  news=news+\"손흥민 선수는 골은 없지만 도움\"+aids+\"개로 승리를 크게 이끌었습니다.\"\n",
        "else:\n",
        "  news=news+\"아쉽게도 이번 경기에서 손흥민의 발끝은 침묵을 지켰습니다.\"\n",
        "\n",
        "print(news)\n",
        "\n",
        "\n"
      ],
      "execution_count": null,
      "outputs": [
        {
          "output_type": "stream",
          "text": [
            "경기가 열린 곳은?런던\n",
            "경기가 열리는 시간은?7월 26일 오후 8시\n",
            "상대팅은?리버풀\n",
            "손흥민은 몇 골을 넣었나요?3\n",
            "도움은 몇 개인가요?0\n",
            "손흥민 팀이 넣은 골 수는?3\n",
            "상대 팀이 넣은 골 수는?1\n",
            "[프리미어 리그 속보(2021-07-26 06:24:42.295056)]\n",
            "손흥민 선수는런던에서7월 26일 오후 8시에 열린 경기에 출전하였습니다.상대팀은리버풀입니다손흥민 선수의 팀이3골을 넣어1골을 넣은 상대 팀을 이겼습니다.손흥민 선수는3골로 승리를 크게 이끌었습니다.\n"
          ],
          "name": "stdout"
        }
      ]
    },
    {
      "cell_type": "code",
      "metadata": {
        "colab": {
          "base_uri": "https://localhost:8080/"
        },
        "id": "RCjHWdVken1T",
        "outputId": "4c64cc0a-87f9-406c-8de0-fff1af342f4e"
      },
      "source": [
        "!pip install gtts\n",
        "!pip install playsound"
      ],
      "execution_count": null,
      "outputs": [
        {
          "output_type": "stream",
          "text": [
            "Requirement already satisfied: gtts in /usr/local/lib/python3.7/dist-packages (2.2.3)\n",
            "Requirement already satisfied: click in /usr/local/lib/python3.7/dist-packages (from gtts) (7.1.2)\n",
            "Requirement already satisfied: six in /usr/local/lib/python3.7/dist-packages (from gtts) (1.15.0)\n",
            "Requirement already satisfied: requests in /usr/local/lib/python3.7/dist-packages (from gtts) (2.23.0)\n",
            "Requirement already satisfied: chardet<4,>=3.0.2 in /usr/local/lib/python3.7/dist-packages (from requests->gtts) (3.0.4)\n",
            "Requirement already satisfied: certifi>=2017.4.17 in /usr/local/lib/python3.7/dist-packages (from requests->gtts) (2021.5.30)\n",
            "Requirement already satisfied: idna<3,>=2.5 in /usr/local/lib/python3.7/dist-packages (from requests->gtts) (2.10)\n",
            "Requirement already satisfied: urllib3!=1.25.0,!=1.25.1,<1.26,>=1.21.1 in /usr/local/lib/python3.7/dist-packages (from requests->gtts) (1.24.3)\n",
            "Requirement already satisfied: playsound in /usr/local/lib/python3.7/dist-packages (1.3.0)\n"
          ],
          "name": "stdout"
        }
      ]
    },
    {
      "cell_type": "code",
      "metadata": {
        "id": "eMTNaMpRgZOw"
      },
      "source": [
        "# 음성으로 들려주는 곳\n",
        "from gtts import gTTS\n",
        "import playsound\n",
        "\n",
        "tts = gTTS(text=news,lang='ko')\n",
        "tts.save(\"news_Son.mp3\")\n",
        "#playsound.playsound(\"news_Son.mp3\",True)"
      ],
      "execution_count": null,
      "outputs": []
    },
    {
      "cell_type": "code",
      "metadata": {
        "id": "5rqCJcmehGxJ"
      },
      "source": [
        ""
      ],
      "execution_count": null,
      "outputs": []
    }
  ]
}