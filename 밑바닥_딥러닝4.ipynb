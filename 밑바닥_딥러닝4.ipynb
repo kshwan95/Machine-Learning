{
  "nbformat": 4,
  "nbformat_minor": 0,
  "metadata": {
    "colab": {
      "name": "밑바닥 딥러닝4.ipynb",
      "provenance": [],
      "collapsed_sections": [],
      "authorship_tag": "ABX9TyNMArdTR2snbgouo5fMXykq",
      "include_colab_link": true
    },
    "kernelspec": {
      "name": "python3",
      "display_name": "Python 3"
    },
    "language_info": {
      "name": "python"
    }
  },
  "cells": [
    {
      "cell_type": "markdown",
      "metadata": {
        "id": "view-in-github",
        "colab_type": "text"
      },
      "source": [
        "<a href=\"https://colab.research.google.com/github/kshwan95/Machine-Learning/blob/main/%EB%B0%91%EB%B0%94%EB%8B%A5_%EB%94%A5%EB%9F%AC%EB%8B%9D4.ipynb\" target=\"_parent\"><img src=\"https://colab.research.google.com/assets/colab-badge.svg\" alt=\"Open In Colab\"/></a>"
      ]
    },
    {
      "cell_type": "code",
      "metadata": {
        "id": "o2Oa-P35Uh4W"
      },
      "source": [
        "class Embedding:\n",
        "  def __init__(self,W):\n",
        "    self.params = [W]\n",
        "    self.grads = [np.zeros_like(W)]\n",
        "    self.idx = None\n",
        "  def forward(self,idx):\n",
        "    W, = self.params\n",
        "    self.idx = idx\n",
        "    out = W[idx]\n",
        "    return out"
      ],
      "execution_count": 1,
      "outputs": []
    },
    {
      "cell_type": "code",
      "metadata": {
        "id": "lpiSQ10nnGOz"
      },
      "source": [
        "def backward(self, dout):\n",
        "  dW, = self.grads\n",
        "  dW[...] = 0\n",
        "  for i, word_id in enumerate(self.idx):\n",
        "    dW[word_id]+=dout[i]\n",
        "    return None"
      ],
      "execution_count": 2,
      "outputs": []
    },
    {
      "cell_type": "code",
      "metadata": {
        "id": "4RU8WTKDnnBv"
      },
      "source": [
        "class EmbeddingDot:\n",
        "  def __init__(self,W):\n",
        "    self.embed = Embedding(W)\n",
        "    self.params = self.embed.params\n",
        "    self.grads = self.embed.grads\n",
        "    self.cache = None\n",
        "  def forward(self, h ,idx):\n",
        "    target_W = self.embed.forward(idx)\n",
        "    out = np.sum(target_W*h,axis=1)\n",
        "    self.cache = (h, target_W)\n",
        "    return out\n",
        "  def backward(self,dout):\n",
        "    h, target_W = self.cache\n",
        "    dout = dout.reshape(dout.shape[0],1)\n",
        "    dtarget_W = dout * h\n",
        "    self.embed.backward(dtarget_W)\n",
        "    dh = dout * target_W\n",
        "    return dh"
      ],
      "execution_count": 3,
      "outputs": []
    },
    {
      "cell_type": "code",
      "metadata": {
        "id": "fnglr0QXrG7Z"
      },
      "source": [
        "#네거티브 샘플링 구현\n",
        "class NegativeSampligLoss:\n",
        "  def __init__(self, W, corpus, power=0.75, sample_size=5):\n",
        "    self.sample_size = sample_size\n",
        "    self.sampler = UnigramSampler(corpus, power, sample_size)\n",
        "    self.loss_layers = [SigmodidWithLoss() for _ in range (sample_size +1)]\n",
        "    self.embed_dot_layers = [EmbeddingDot(W) for _ in range(smaple_size+1)]\n",
        "    self.params, self.grads = [], []\n",
        "    for layer in self.embed_dot_layers:\n",
        "      self.params += layer.params\n",
        "      self.grads += layer.grads"
      ],
      "execution_count": 5,
      "outputs": []
    },
    {
      "cell_type": "code",
      "metadata": {
        "id": "gapkvOXpya51"
      },
      "source": [
        "def forward(self, h , target):\n",
        "  batch_size = target.shape[0]\n",
        "  negative_sample = self.sampler.get_negative_sample(target)\n",
        "\n",
        "  #긍정적인 예 순전파\n",
        "  score = self.embed_dot_layers[0].forward(h,target)\n",
        "  correct_label = np.ones(batch_size, dtype=np.int32)\n",
        "  loss = sefl.loss_layers[0].forward(score, correct_label)\n",
        "\n",
        "  #부정적 예 순전파\n",
        "  negative_label = np.zeros(batch_size, dtype=np.int32)\n",
        "  for i in range(self.sample_size):\n",
        "    negative_target = negative_sample[:,i]\n",
        "    score = self.embed_dot_layers[1+i].forward(h,negative_target)\n",
        "    loss += self.loss_layers[1 + i].forward(score, negative_label)\n",
        "  return loss"
      ],
      "execution_count": 7,
      "outputs": []
    },
    {
      "cell_type": "code",
      "metadata": {
        "id": "INrMh_Qx2V-Q"
      },
      "source": [
        "def backward(self, dout=1):\n",
        "  dh = 0\n",
        "  for l0, l1 in zip(self.loss_layers, self.embed_dot_layers):\n",
        "    dscore = l0.backward(dout)\n",
        "    dh+= l1.backward(dscore)\n",
        "\n",
        "    return dh"
      ],
      "execution_count": 11,
      "outputs": []
    },
    {
      "cell_type": "code",
      "metadata": {
        "id": "mdq8f6FT2wD1"
      },
      "source": [
        "class CBOW:\n",
        "  def __init__(self, vocab_size, hidden_size, window_size, corpus):\n",
        "    V,H = vocab_size, hidden_size\n",
        "\n",
        "    #가중치 초기화\n",
        "    W_in = 0.01 * np.random.randn(V,H).astype('f')\n",
        "    W_out = 0.01 * np.random.randn(V,H).astype('f')\n",
        "\n",
        "    #계층 생성\n",
        "    self.in_layers = []\n",
        "    for i in range(2 * window_size):\n",
        "      layer = Embedding(W_in)\n",
        "      self.in_layers.append(layer)\n",
        "    self.ns_loss = NegativeSampligLoss(W_out,corpus, power=0.75,sample_size=5)\n",
        "\n",
        "    #모든 가중치와 기울기르 배열에 모은다\n",
        "    layers = self.in_layers + [self.ns_loss]\n",
        "    self.params, self.grads = [], []\n",
        "    for layer in layers:\n",
        "      self.params += layer.params\n",
        "      self.grads += layer.grads\n",
        "    \n",
        "    #인스턴스 변수에 단어의 분산 표현을 저장한다.\n",
        "    self.word_vecs = W_in"
      ],
      "execution_count": 12,
      "outputs": []
    },
    {
      "cell_type": "code",
      "metadata": {
        "id": "EJHzJ93b-r0P"
      },
      "source": [
        ""
      ],
      "execution_count": null,
      "outputs": []
    }
  ]
}