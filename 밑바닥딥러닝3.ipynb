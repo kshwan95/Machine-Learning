{
  "nbformat": 4,
  "nbformat_minor": 0,
  "metadata": {
    "colab": {
      "name": "밑바닥딥러닝3.ipynb",
      "provenance": [],
      "collapsed_sections": [],
      "authorship_tag": "ABX9TyNACpk3PoCo5cED55ttTmmI",
      "include_colab_link": true
    },
    "kernelspec": {
      "name": "python3",
      "display_name": "Python 3"
    },
    "language_info": {
      "name": "python"
    }
  },
  "cells": [
    {
      "cell_type": "markdown",
      "metadata": {
        "id": "view-in-github",
        "colab_type": "text"
      },
      "source": [
        "<a href=\"https://colab.research.google.com/github/kshwan95/Machine-Learning/blob/main/%EB%B0%91%EB%B0%94%EB%8B%A5%EB%94%A5%EB%9F%AC%EB%8B%9D3.ipynb\" target=\"_parent\"><img src=\"https://colab.research.google.com/assets/colab-badge.svg\" alt=\"Open In Colab\"/></a>"
      ]
    },
    {
      "cell_type": "code",
      "metadata": {
        "id": "kNcwFrkRPiv7"
      },
      "source": [
        "#word2vec\n",
        "\n",
        "import numpy as np\n",
        "#c = np.array([1,0,0,0,0,0,0])\n",
        "#W = np.random.randn(7,3)\n",
        "#h = np.matmul(c,W)"
      ],
      "execution_count": null,
      "outputs": []
    },
    {
      "cell_type": "code",
      "metadata": {
        "id": "RZ-5-Wy8qYV2"
      },
      "source": [
        "class MatMul:\n",
        "  def __init__(self,W):\n",
        "    self.params =[W]\n",
        "    self.grads = [np.zeros_like(W)]\n",
        "    self.x = None\n",
        "  def forward(self,x):\n",
        "    W, = self.params\n",
        "    out = np.matmul(x,W)\n",
        "    self.x = x\n",
        "    return out\n",
        "  def backward(self,dout):\n",
        "    W, = self.params\n",
        "    dx = np.matmul(dout, W.T)\n",
        "    dw = np.matmul(self.x.T,dout)\n",
        "    self.grads[0][...] = dw\n",
        "    return dx"
      ],
      "execution_count": null,
      "outputs": []
    },
    {
      "cell_type": "code",
      "metadata": {
        "colab": {
          "base_uri": "https://localhost:8080/"
        },
        "id": "e_biCMIMrT99",
        "outputId": "698c5739-e67a-4747-a5f4-bf103b0b8812"
      },
      "source": [
        "#샘플 맥락 데이터\n",
        "c0 = np.array([1,0,0,0,0,0,0])\n",
        "c1 = np.array([0,0,1,0,0,0,0])\n",
        "\n",
        "#가중치 초기화\n",
        "W_in = np.random.randn(7,3)\n",
        "W_out = np.random.randn(3,7)\n",
        "\n",
        "#계층 생성\n",
        "in_layer0  = MatMul(W_in)\n",
        "in_layer1 = MatMul(W_in)\n",
        "out_layer = MatMul(W_out)\n",
        "\n",
        "#순전파\n",
        "h0 = in_layer0.forward(c0)\n",
        "h1 = in_layer1.forward(c1)\n",
        "h = 0.5 * (h0+h1)\n",
        "s = out_layer.forward(h)\n",
        "print(s)"
      ],
      "execution_count": null,
      "outputs": [
        {
          "output_type": "stream",
          "text": [
            "[ 1.2784142   0.9840107  -0.4563202  -1.89970775 -1.28086262  0.25367552\n",
            " -0.91725734]\n"
          ],
          "name": "stdout"
        }
      ]
    },
    {
      "cell_type": "code",
      "metadata": {
        "id": "P37lelSJsMiu"
      },
      "source": [
        "def preprocess(text):\n",
        "  text = text.lower()\n",
        "  text = text.replace('.','.')\n",
        "  words = text.split(' ')\n",
        "  word_to_id = {}\n",
        "  id_to_word = {}\n",
        "\n",
        "  for word in words:\n",
        "    if word not in word_to_id:\n",
        "      new_id = len(word_to_id)\n",
        "      word_to_id[word] = new_id\n",
        "      id_to_word[new_id] =word\n",
        "  corpus = np.array([word_to_id[w]for w in words])\n",
        "\n",
        "  return corpus, word_to_id, id_to_word"
      ],
      "execution_count": null,
      "outputs": []
    },
    {
      "cell_type": "code",
      "metadata": {
        "colab": {
          "base_uri": "https://localhost:8080/"
        },
        "id": "pn8aYvxWtOut",
        "outputId": "35de8574-75b8-4f5e-e4e6-3f5c328489f5"
      },
      "source": [
        "text = 'You say goodbye and I say hello .'\n",
        "corpus, word_toid, id_to_word = preprocess(text)\n",
        "print(corpus)"
      ],
      "execution_count": null,
      "outputs": [
        {
          "output_type": "stream",
          "text": [
            "[0 1 2 3 4 1 5 6]\n"
          ],
          "name": "stdout"
        }
      ]
    },
    {
      "cell_type": "code",
      "metadata": {
        "colab": {
          "base_uri": "https://localhost:8080/"
        },
        "id": "aq17yHDvtdwM",
        "outputId": "e6ecf785-a9d4-48fe-9d57-b2a6ef2f0716"
      },
      "source": [
        "print(id_to_word)"
      ],
      "execution_count": null,
      "outputs": [
        {
          "output_type": "stream",
          "text": [
            "{0: 'you', 1: 'say', 2: 'goodbye', 3: 'and', 4: 'i', 5: 'hello', 6: '.'}\n"
          ],
          "name": "stdout"
        }
      ]
    },
    {
      "cell_type": "code",
      "metadata": {
        "id": "qNekQj4NtnmF"
      },
      "source": [
        "def create_contexts_target(corpus,window_size=1):\n",
        "  target = corpus[window_size:-window_size]\n",
        "  contexts = []\n",
        "\n",
        "  for idx in range(window_size, len(corpus)-window_size):\n",
        "    cs = []\n",
        "    for t in range(-window_size, window_size+1):\n",
        "      if t ==0:\n",
        "        continue\n",
        "        cs.append(corpus[idx+t])\n",
        "      contexts.append(cs)\n",
        "  return np.array(contexts), np.array(target)\n"
      ],
      "execution_count": null,
      "outputs": []
    },
    {
      "cell_type": "code",
      "metadata": {
        "id": "rsuhfm66ui_p"
      },
      "source": [
        "contexts, target = create_contexts_target(corpus,window_size=1)"
      ],
      "execution_count": null,
      "outputs": []
    },
    {
      "cell_type": "code",
      "metadata": {
        "colab": {
          "base_uri": "https://localhost:8080/"
        },
        "id": "PC0fIS6Mun5H",
        "outputId": "8d80f9a3-4643-45d0-ef4d-5966d1b1c10f"
      },
      "source": [
        "print(contexts)"
      ],
      "execution_count": null,
      "outputs": [
        {
          "output_type": "stream",
          "text": [
            "[]\n"
          ],
          "name": "stdout"
        }
      ]
    },
    {
      "cell_type": "code",
      "metadata": {
        "colab": {
          "base_uri": "https://localhost:8080/"
        },
        "id": "WVBgrR9lurq7",
        "outputId": "08886736-233d-47ed-a742-b903bf5d7e30"
      },
      "source": [
        "print(target)"
      ],
      "execution_count": null,
      "outputs": [
        {
          "output_type": "stream",
          "text": [
            "[1 2 3 4 1 5]\n"
          ],
          "name": "stdout"
        }
      ]
    }
  ]
}