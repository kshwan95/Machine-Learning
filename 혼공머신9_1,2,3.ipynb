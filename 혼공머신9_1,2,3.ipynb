{
  "nbformat": 4,
  "nbformat_minor": 0,
  "metadata": {
    "colab": {
      "name": "혼공머신9-1,2,3.ipynb",
      "provenance": [],
      "collapsed_sections": [],
      "authorship_tag": "ABX9TyP3iC3KT28imfeJ2YchizsZ",
      "include_colab_link": true
    },
    "kernelspec": {
      "name": "python3",
      "display_name": "Python 3"
    },
    "language_info": {
      "name": "python"
    }
  },
  "cells": [
    {
      "cell_type": "markdown",
      "metadata": {
        "id": "view-in-github",
        "colab_type": "text"
      },
      "source": [
        "<a href=\"https://colab.research.google.com/github/kshwan95/Machine-Learning/blob/main/%ED%98%BC%EA%B3%B5%EB%A8%B8%EC%8B%A09_1%2C2%2C3.ipynb\" target=\"_parent\"><img src=\"https://colab.research.google.com/assets/colab-badge.svg\" alt=\"Open In Colab\"/></a>"
      ]
    },
    {
      "cell_type": "code",
      "metadata": {
        "colab": {
          "base_uri": "https://localhost:8080/"
        },
        "id": "gvp4fKzq4-6B",
        "outputId": "7dec16b5-265c-4aeb-aec3-329fbaf7e206"
      },
      "source": [
        "from tensorflow.keras.datasets import imdb\n",
        "(train_input,train_target),(test_input,test_target) = imdb.load_data(num_words=500)"
      ],
      "execution_count": 7,
      "outputs": [
        {
          "output_type": "stream",
          "text": [
            "<string>:6: VisibleDeprecationWarning: Creating an ndarray from ragged nested sequences (which is a list-or-tuple of lists-or-tuples-or ndarrays with different lengths or shapes) is deprecated. If you meant to do this, you must specify 'dtype=object' when creating the ndarray\n",
            "/usr/local/lib/python3.7/dist-packages/tensorflow/python/keras/datasets/imdb.py:155: VisibleDeprecationWarning: Creating an ndarray from ragged nested sequences (which is a list-or-tuple of lists-or-tuples-or ndarrays with different lengths or shapes) is deprecated. If you meant to do this, you must specify 'dtype=object' when creating the ndarray\n",
            "  x_train, y_train = np.array(xs[:idx]), np.array(labels[:idx])\n",
            "/usr/local/lib/python3.7/dist-packages/tensorflow/python/keras/datasets/imdb.py:156: VisibleDeprecationWarning: Creating an ndarray from ragged nested sequences (which is a list-or-tuple of lists-or-tuples-or ndarrays with different lengths or shapes) is deprecated. If you meant to do this, you must specify 'dtype=object' when creating the ndarray\n",
            "  x_test, y_test = np.array(xs[idx:]), np.array(labels[idx:])\n"
          ],
          "name": "stderr"
        }
      ]
    },
    {
      "cell_type": "code",
      "metadata": {
        "colab": {
          "base_uri": "https://localhost:8080/"
        },
        "id": "g3DuvxwXFWMb",
        "outputId": "e5aff848-f7c3-412b-d82f-4cf1ce8b29e3"
      },
      "source": [
        "print(train_input.shape,test_input.shape)"
      ],
      "execution_count": 8,
      "outputs": [
        {
          "output_type": "stream",
          "text": [
            "(25000,) (25000,)\n"
          ],
          "name": "stdout"
        }
      ]
    },
    {
      "cell_type": "code",
      "metadata": {
        "colab": {
          "base_uri": "https://localhost:8080/"
        },
        "id": "a4wxwRitFxrK",
        "outputId": "39004f4c-30ca-4716-97d1-a450d347e0d6"
      },
      "source": [
        "print(len(train_input[0]))"
      ],
      "execution_count": 9,
      "outputs": [
        {
          "output_type": "stream",
          "text": [
            "218\n"
          ],
          "name": "stdout"
        }
      ]
    },
    {
      "cell_type": "code",
      "metadata": {
        "colab": {
          "base_uri": "https://localhost:8080/"
        },
        "id": "Nrcq_fKOF6qw",
        "outputId": "90289b5b-0374-4151-d96b-062154681f33"
      },
      "source": [
        "print(len(train_input[1]))"
      ],
      "execution_count": 10,
      "outputs": [
        {
          "output_type": "stream",
          "text": [
            "189\n"
          ],
          "name": "stdout"
        }
      ]
    },
    {
      "cell_type": "code",
      "metadata": {
        "colab": {
          "base_uri": "https://localhost:8080/"
        },
        "id": "2NeQhbcqF9CM",
        "outputId": "852aaeb6-80fa-4940-db47-9c8fe54d5a8d"
      },
      "source": [
        "print(train_input[0])"
      ],
      "execution_count": 11,
      "outputs": [
        {
          "output_type": "stream",
          "text": [
            "[1, 14, 22, 16, 43, 2, 2, 2, 2, 65, 458, 2, 66, 2, 4, 173, 36, 256, 5, 25, 100, 43, 2, 112, 50, 2, 2, 9, 35, 480, 284, 5, 150, 4, 172, 112, 167, 2, 336, 385, 39, 4, 172, 2, 2, 17, 2, 38, 13, 447, 4, 192, 50, 16, 6, 147, 2, 19, 14, 22, 4, 2, 2, 469, 4, 22, 71, 87, 12, 16, 43, 2, 38, 76, 15, 13, 2, 4, 22, 17, 2, 17, 12, 16, 2, 18, 2, 5, 62, 386, 12, 8, 316, 8, 106, 5, 4, 2, 2, 16, 480, 66, 2, 33, 4, 130, 12, 16, 38, 2, 5, 25, 124, 51, 36, 135, 48, 25, 2, 33, 6, 22, 12, 215, 28, 77, 52, 5, 14, 407, 16, 82, 2, 8, 4, 107, 117, 2, 15, 256, 4, 2, 7, 2, 5, 2, 36, 71, 43, 2, 476, 26, 400, 317, 46, 7, 4, 2, 2, 13, 104, 88, 4, 381, 15, 297, 98, 32, 2, 56, 26, 141, 6, 194, 2, 18, 4, 226, 22, 21, 134, 476, 26, 480, 5, 144, 30, 2, 18, 51, 36, 28, 224, 92, 25, 104, 4, 226, 65, 16, 38, 2, 88, 12, 16, 283, 5, 16, 2, 113, 103, 32, 15, 16, 2, 19, 178, 32]\n"
          ],
          "name": "stdout"
        }
      ]
    },
    {
      "cell_type": "code",
      "metadata": {
        "colab": {
          "base_uri": "https://localhost:8080/"
        },
        "id": "2oEAShlWGAMm",
        "outputId": "34a3ed90-df36-45ae-dbc1-27b5fb5533fc"
      },
      "source": [
        "print(train_target[:20])"
      ],
      "execution_count": 12,
      "outputs": [
        {
          "output_type": "stream",
          "text": [
            "[1 0 0 1 0 0 1 0 1 0 1 0 0 0 0 0 1 1 0 1]\n"
          ],
          "name": "stdout"
        }
      ]
    },
    {
      "cell_type": "code",
      "metadata": {
        "id": "bhnkAObzGJfk"
      },
      "source": [
        "from sklearn.model_selection import train_test_split\n",
        "train_input, val_input, train_target, val_target = train_test_split(\n",
        "    train_input,train_target,test_size=0.2, random_state=42\n",
        ")"
      ],
      "execution_count": 13,
      "outputs": []
    },
    {
      "cell_type": "code",
      "metadata": {
        "id": "d3ot1YnXHpQe"
      },
      "source": [
        "import numpy as np\n",
        "lengths = np.array([len(x) for x in train_input])"
      ],
      "execution_count": 14,
      "outputs": []
    },
    {
      "cell_type": "code",
      "metadata": {
        "colab": {
          "base_uri": "https://localhost:8080/"
        },
        "id": "76LdS3r-HxEk",
        "outputId": "72f857dd-2e42-44c0-8e11-7a9b7372eb87"
      },
      "source": [
        "print(np.mean(lengths),np.median(lengths))"
      ],
      "execution_count": 15,
      "outputs": [
        {
          "output_type": "stream",
          "text": [
            "239.00925 178.0\n"
          ],
          "name": "stdout"
        }
      ]
    },
    {
      "cell_type": "code",
      "metadata": {
        "colab": {
          "base_uri": "https://localhost:8080/",
          "height": 279
        },
        "id": "zFjbDIQYH3uY",
        "outputId": "0e1ba9d9-11c8-4efe-e2cd-c1a0eb6d9681"
      },
      "source": [
        "import matplotlib.pyplot as plt\n",
        "plt.hist(lengths)\n",
        "plt.xlabel('length')\n",
        "plt.ylabel('frequency')\n",
        "plt.show()"
      ],
      "execution_count": 16,
      "outputs": [
        {
          "output_type": "display_data",
          "data": {
            "image/png": "[encoded data removed]",
            "text/plain": [
              "<Figure size 432x288 with 1 Axes>"
            ]
          },
          "metadata": {
            "tags": [],
            "needs_background": "light"
          }
        }
      ]
    },
    {
      "cell_type": "code",
      "metadata": {
        "id": "9H9LX_SXIJb8"
      },
      "source": [
        "from tensorflow.keras.preprocessing.sequence import pad_sequences\n",
        "train_seq = pad_sequences(train_input, maxlen=100)"
      ],
      "execution_count": 17,
      "outputs": []
    },
    {
      "cell_type": "code",
      "metadata": {
        "colab": {
          "base_uri": "https://localhost:8080/"
        },
        "id": "rKw5UDY4I0e4",
        "outputId": "4ca8b01d-1e1d-4b10-9310-0a40a4cf56ae"
      },
      "source": [
        "print(train_seq.shape)"
      ],
      "execution_count": 18,
      "outputs": [
        {
          "output_type": "stream",
          "text": [
            "(20000, 100)\n"
          ],
          "name": "stdout"
        }
      ]
    },
    {
      "cell_type": "code",
      "metadata": {
        "colab": {
          "base_uri": "https://localhost:8080/"
        },
        "id": "gWD4ViXrI37V",
        "outputId": "2eb07e8b-3439-48a5-93c3-2c97d8aeccc3"
      },
      "source": [
        "print(train_seq[0])"
      ],
      "execution_count": 19,
      "outputs": [
        {
          "output_type": "stream",
          "text": [
            "[ 10   4  20   9   2 364 352   5  45   6   2   2  33 269   8   2 142   2\n",
            "   5   2  17  73  17 204   5   2  19  55   2   2  92  66 104  14  20  93\n",
            "  76   2 151  33   4  58  12 188   2 151  12 215  69 224 142  73 237   6\n",
            "   2   7   2   2 188   2 103  14  31  10  10 451   7   2   5   2  80  91\n",
            "   2  30   2  34  14  20 151  50  26 131  49   2  84  46  50  37  80  79\n",
            "   6   2  46   7  14  20  10  10 470 158]\n"
          ],
          "name": "stdout"
        }
      ]
    },
    {
      "cell_type": "code",
      "metadata": {
        "id": "EgTASWvMI6yM"
      },
      "source": [
        "val_seq = pad_sequences(val_input,maxlen=100)"
      ],
      "execution_count": 20,
      "outputs": []
    },
    {
      "cell_type": "code",
      "metadata": {
        "id": "ZjYe4iFaJMIZ"
      },
      "source": [
        "from tensorflow import keras\n",
        "model = keras.Sequential()\n",
        "model.add(keras.layers.SimpleRNN(8,input_shape=(100,500)))\n",
        "model.add(keras.layers.Dense(1,activation='sigmoid'))"
      ],
      "execution_count": 21,
      "outputs": []
    },
    {
      "cell_type": "code",
      "metadata": {
        "id": "G4Dhp_gMP1iC"
      },
      "source": [
        "train_oh = keras.utils.to_categorical(train_seq)"
      ],
      "execution_count": 22,
      "outputs": []
    },
    {
      "cell_type": "code",
      "metadata": {
        "colab": {
          "base_uri": "https://localhost:8080/"
        },
        "id": "w95hOhDLQHIV",
        "outputId": "f50f919c-e320-4e5b-a0dc-22730d7a2ded"
      },
      "source": [
        "print(train_oh.shape)"
      ],
      "execution_count": 23,
      "outputs": [
        {
          "output_type": "stream",
          "text": [
            "(20000, 100, 500)\n"
          ],
          "name": "stdout"
        }
      ]
    },
    {
      "cell_type": "code",
      "metadata": {
        "id": "46Nk6paXQKPr"
      },
      "source": [
        "val_oh = keras.utils.to_categorical(val_seq)"
      ],
      "execution_count": 24,
      "outputs": []
    },
    {
      "cell_type": "code",
      "metadata": {
        "colab": {
          "base_uri": "https://localhost:8080/"
        },
        "id": "y0fk_PNqQbu1",
        "outputId": "17c50454-9e30-427b-ec4c-3225862c5a03"
      },
      "source": [
        "model.summary()"
      ],
      "execution_count": 25,
      "outputs": [
        {
          "output_type": "stream",
          "text": [
            "Model: \"sequential\"\n",
            "_________________________________________________________________\n",
            "Layer (type)                 Output Shape              Param #   \n",
            "=================================================================\n",
            "simple_rnn (SimpleRNN)       (None, 8)                 4072      \n",
            "_________________________________________________________________\n",
            "dense (Dense)                (None, 1)                 9         \n",
            "=================================================================\n",
            "Total params: 4,081\n",
            "Trainable params: 4,081\n",
            "Non-trainable params: 0\n",
            "_________________________________________________________________\n"
          ],
          "name": "stdout"
        }
      ]
    },
    {
      "cell_type": "code",
      "metadata": {
        "colab": {
          "base_uri": "https://localhost:8080/"
        },
        "id": "PwLX92MKQdXT",
        "outputId": "25f94242-db1b-4ea2-acc0-1dc74233c521"
      },
      "source": [
        "rmsprop = keras.optimizers.RMSprop(learning_rate=1e-4)\n",
        "model.compile(optimizer=rmsprop,loss='binary_crossentropy',\n",
        "              metrics=['accuracy'])\n",
        "checkpoint_cb = keras.callbacks.ModelCheckpoint('best-simplernn-model.h5')\n",
        "early_stopping_cb = keras.callbacks.EarlyStopping(patience=3,restore_best_weights=True)\n",
        "history = model.fit(train_oh,train_target,epochs=100,batch_size=64,\n",
        "                    validation_data=(val_oh,val_target),callbacks=[checkpoint_cb,early_stopping_cb])"
      ],
      "execution_count": 26,
      "outputs": [
        {
          "output_type": "stream",
          "text": [
            "Epoch 1/100\n",
            "313/313 [==============================] - 15s 41ms/step - loss: 0.6980 - accuracy: 0.5101 - val_loss: 0.6958 - val_accuracy: 0.5084\n",
            "Epoch 2/100\n",
            "313/313 [==============================] - 12s 39ms/step - loss: 0.6940 - accuracy: 0.5207 - val_loss: 0.6933 - val_accuracy: 0.5184\n",
            "Epoch 3/100\n",
            "313/313 [==============================] - 12s 39ms/step - loss: 0.6911 - accuracy: 0.5281 - val_loss: 0.6911 - val_accuracy: 0.5286\n",
            "Epoch 4/100\n",
            "313/313 [==============================] - 12s 39ms/step - loss: 0.6885 - accuracy: 0.5385 - val_loss: 0.6893 - val_accuracy: 0.5394\n",
            "Epoch 5/100\n",
            "313/313 [==============================] - 12s 39ms/step - loss: 0.6860 - accuracy: 0.5469 - val_loss: 0.6874 - val_accuracy: 0.5446\n",
            "Epoch 6/100\n",
            "313/313 [==============================] - 12s 39ms/step - loss: 0.6835 - accuracy: 0.5536 - val_loss: 0.6854 - val_accuracy: 0.5524\n",
            "Epoch 7/100\n",
            "313/313 [==============================] - 12s 39ms/step - loss: 0.6806 - accuracy: 0.5655 - val_loss: 0.6830 - val_accuracy: 0.5648\n",
            "Epoch 8/100\n",
            "313/313 [==============================] - 12s 39ms/step - loss: 0.6772 - accuracy: 0.5755 - val_loss: 0.6796 - val_accuracy: 0.5750\n",
            "Epoch 9/100\n",
            "313/313 [==============================] - 12s 39ms/step - loss: 0.6723 - accuracy: 0.5892 - val_loss: 0.6747 - val_accuracy: 0.5820\n",
            "Epoch 10/100\n",
            "313/313 [==============================] - 12s 39ms/step - loss: 0.6619 - accuracy: 0.6133 - val_loss: 0.6541 - val_accuracy: 0.6282\n",
            "Epoch 11/100\n",
            "313/313 [==============================] - 12s 39ms/step - loss: 0.6307 - accuracy: 0.6552 - val_loss: 0.6264 - val_accuracy: 0.6600\n",
            "Epoch 12/100\n",
            "313/313 [==============================] - 12s 40ms/step - loss: 0.6114 - accuracy: 0.6775 - val_loss: 0.6119 - val_accuracy: 0.6756\n",
            "Epoch 13/100\n",
            "313/313 [==============================] - 12s 40ms/step - loss: 0.5962 - accuracy: 0.6952 - val_loss: 0.5976 - val_accuracy: 0.6906\n",
            "Epoch 14/100\n",
            "313/313 [==============================] - 13s 40ms/step - loss: 0.5796 - accuracy: 0.7119 - val_loss: 0.5788 - val_accuracy: 0.7082\n",
            "Epoch 15/100\n",
            "313/313 [==============================] - 12s 39ms/step - loss: 0.5634 - accuracy: 0.7250 - val_loss: 0.5753 - val_accuracy: 0.7116\n",
            "Epoch 16/100\n",
            "313/313 [==============================] - 12s 39ms/step - loss: 0.5516 - accuracy: 0.7360 - val_loss: 0.5599 - val_accuracy: 0.7248\n",
            "Epoch 17/100\n",
            "313/313 [==============================] - 12s 39ms/step - loss: 0.5405 - accuracy: 0.7413 - val_loss: 0.5489 - val_accuracy: 0.7318\n",
            "Epoch 18/100\n",
            "313/313 [==============================] - 12s 39ms/step - loss: 0.5298 - accuracy: 0.7491 - val_loss: 0.5399 - val_accuracy: 0.7396\n",
            "Epoch 19/100\n",
            "313/313 [==============================] - 12s 39ms/step - loss: 0.5198 - accuracy: 0.7557 - val_loss: 0.5299 - val_accuracy: 0.7460\n",
            "Epoch 20/100\n",
            "313/313 [==============================] - 12s 39ms/step - loss: 0.5109 - accuracy: 0.7618 - val_loss: 0.5226 - val_accuracy: 0.7516\n",
            "Epoch 21/100\n",
            "313/313 [==============================] - 12s 39ms/step - loss: 0.5029 - accuracy: 0.7660 - val_loss: 0.5198 - val_accuracy: 0.7528\n",
            "Epoch 22/100\n",
            "313/313 [==============================] - 12s 39ms/step - loss: 0.4950 - accuracy: 0.7739 - val_loss: 0.5102 - val_accuracy: 0.7574\n",
            "Epoch 23/100\n",
            "313/313 [==============================] - 12s 39ms/step - loss: 0.4879 - accuracy: 0.7758 - val_loss: 0.5022 - val_accuracy: 0.7660\n",
            "Epoch 24/100\n",
            "313/313 [==============================] - 12s 39ms/step - loss: 0.4806 - accuracy: 0.7810 - val_loss: 0.4980 - val_accuracy: 0.7666\n",
            "Epoch 25/100\n",
            "313/313 [==============================] - 12s 39ms/step - loss: 0.4754 - accuracy: 0.7850 - val_loss: 0.4952 - val_accuracy: 0.7684\n",
            "Epoch 26/100\n",
            "313/313 [==============================] - 12s 39ms/step - loss: 0.4695 - accuracy: 0.7883 - val_loss: 0.4938 - val_accuracy: 0.7688\n",
            "Epoch 27/100\n",
            "313/313 [==============================] - 12s 39ms/step - loss: 0.4643 - accuracy: 0.7921 - val_loss: 0.4881 - val_accuracy: 0.7720\n",
            "Epoch 28/100\n",
            "313/313 [==============================] - 12s 39ms/step - loss: 0.4598 - accuracy: 0.7933 - val_loss: 0.4836 - val_accuracy: 0.7724\n",
            "Epoch 29/100\n",
            "313/313 [==============================] - 12s 39ms/step - loss: 0.4547 - accuracy: 0.7980 - val_loss: 0.4801 - val_accuracy: 0.7750\n",
            "Epoch 30/100\n",
            "313/313 [==============================] - 12s 39ms/step - loss: 0.4508 - accuracy: 0.8000 - val_loss: 0.4774 - val_accuracy: 0.7758\n",
            "Epoch 31/100\n",
            "313/313 [==============================] - 12s 39ms/step - loss: 0.4471 - accuracy: 0.8024 - val_loss: 0.4752 - val_accuracy: 0.7790\n",
            "Epoch 32/100\n",
            "313/313 [==============================] - 12s 39ms/step - loss: 0.4436 - accuracy: 0.8055 - val_loss: 0.4760 - val_accuracy: 0.7766\n",
            "Epoch 33/100\n",
            "313/313 [==============================] - 12s 40ms/step - loss: 0.4400 - accuracy: 0.8072 - val_loss: 0.4724 - val_accuracy: 0.7776\n",
            "Epoch 34/100\n",
            "313/313 [==============================] - 12s 39ms/step - loss: 0.4374 - accuracy: 0.8089 - val_loss: 0.4678 - val_accuracy: 0.7832\n",
            "Epoch 35/100\n",
            "313/313 [==============================] - 12s 39ms/step - loss: 0.4342 - accuracy: 0.8098 - val_loss: 0.4687 - val_accuracy: 0.7768\n",
            "Epoch 36/100\n",
            "313/313 [==============================] - 12s 39ms/step - loss: 0.4318 - accuracy: 0.8110 - val_loss: 0.4700 - val_accuracy: 0.7788\n",
            "Epoch 37/100\n",
            "313/313 [==============================] - 12s 39ms/step - loss: 0.4292 - accuracy: 0.8116 - val_loss: 0.4644 - val_accuracy: 0.7828\n",
            "Epoch 38/100\n",
            "313/313 [==============================] - 12s 39ms/step - loss: 0.4266 - accuracy: 0.8139 - val_loss: 0.4699 - val_accuracy: 0.7766\n",
            "Epoch 39/100\n",
            "313/313 [==============================] - 12s 39ms/step - loss: 0.4246 - accuracy: 0.8140 - val_loss: 0.4708 - val_accuracy: 0.7778\n",
            "Epoch 40/100\n",
            "313/313 [==============================] - 12s 39ms/step - loss: 0.4228 - accuracy: 0.8163 - val_loss: 0.4688 - val_accuracy: 0.7804\n"
          ],
          "name": "stdout"
        }
      ]
    },
    {
      "cell_type": "code",
      "metadata": {
        "colab": {
          "base_uri": "https://localhost:8080/",
          "height": 279
        },
        "id": "NIdxMV_MUqXe",
        "outputId": "533c95c4-a30d-4a88-afb9-8555b3e8e4cc"
      },
      "source": [
        "plt.plot(history.history['loss'])\n",
        "plt.plot(history.history['val_loss'])\n",
        "plt.xlabel('epoch')\n",
        "plt.ylabel('loss')\n",
        "plt.legend(['train','val'])\n",
        "plt.show()"
      ],
      "execution_count": 27,
      "outputs": [
        {
          "output_type": "display_data",
          "data": {
            "image/png": "[encoded data removed]",
            "text/plain": [
              "<Figure size 432x288 with 1 Axes>"
            ]
          },
          "metadata": {
            "tags": [],
            "needs_background": "light"
          }
        }
      ]
    },
    {
      "cell_type": "code",
      "metadata": {
        "id": "_GqZHEfmX0b9"
      },
      "source": [
        "model2 = keras.Sequential()\n",
        "model2.add(keras.layers.Embedding(500,16,input_length=100))\n",
        "model2.add(keras.layers.SimpleRNN(8))\n",
        "model2.add(keras.layers.Dense(1,activation='sigmoid'))"
      ],
      "execution_count": 28,
      "outputs": []
    },
    {
      "cell_type": "code",
      "metadata": {
        "colab": {
          "base_uri": "https://localhost:8080/"
        },
        "id": "yNKFUdtBYMcM",
        "outputId": "d1572f20-bb47-41ce-af86-986613bc54d4"
      },
      "source": [
        "model2.summary()"
      ],
      "execution_count": 29,
      "outputs": [
        {
          "output_type": "stream",
          "text": [
            "Model: \"sequential_1\"\n",
            "_________________________________________________________________\n",
            "Layer (type)                 Output Shape              Param #   \n",
            "=================================================================\n",
            "embedding (Embedding)        (None, 100, 16)           8000      \n",
            "_________________________________________________________________\n",
            "simple_rnn_1 (SimpleRNN)     (None, 8)                 200       \n",
            "_________________________________________________________________\n",
            "dense_1 (Dense)              (None, 1)                 9         \n",
            "=================================================================\n",
            "Total params: 8,209\n",
            "Trainable params: 8,209\n",
            "Non-trainable params: 0\n",
            "_________________________________________________________________\n"
          ],
          "name": "stdout"
        }
      ]
    },
    {
      "cell_type": "code",
      "metadata": {
        "colab": {
          "base_uri": "https://localhost:8080/"
        },
        "id": "eiyVLLBrYPIX",
        "outputId": "bcfb4048-693a-4f81-a558-6c72fe01e0b2"
      },
      "source": [
        "rmsprop = keras.optimizers.RMSprop(learning_rate=1e-4)\n",
        "model2.compile(optimizer=rmsprop,loss='binary_crossentropy',\n",
        "              metrics=['accuracy'])\n",
        "checkpoint_cb = keras.callbacks.ModelCheckpoint('best-simplernn-model.h5')\n",
        "early_stopping_cb = keras.callbacks.EarlyStopping(patience=3,restore_best_weights=True)\n",
        "history = model2.fit(train_seq,train_target,epochs=100,batch_size=64,\n",
        "                    validation_data=(val_seq,val_target),callbacks=[checkpoint_cb,early_stopping_cb])"
      ],
      "execution_count": 33,
      "outputs": [
        {
          "output_type": "stream",
          "text": [
            "Epoch 1/100\n",
            "313/313 [==============================] - 8s 21ms/step - loss: 0.6820 - accuracy: 0.5692 - val_loss: 0.6653 - val_accuracy: 0.6342\n",
            "Epoch 2/100\n",
            "313/313 [==============================] - 6s 20ms/step - loss: 0.6518 - accuracy: 0.6692 - val_loss: 0.6417 - val_accuracy: 0.6914\n",
            "Epoch 3/100\n",
            "313/313 [==============================] - 6s 21ms/step - loss: 0.6277 - accuracy: 0.7135 - val_loss: 0.6205 - val_accuracy: 0.7214\n",
            "Epoch 4/100\n",
            "313/313 [==============================] - 6s 21ms/step - loss: 0.6058 - accuracy: 0.7389 - val_loss: 0.6037 - val_accuracy: 0.7308\n",
            "Epoch 5/100\n",
            "313/313 [==============================] - 6s 21ms/step - loss: 0.5851 - accuracy: 0.7544 - val_loss: 0.5826 - val_accuracy: 0.7478\n",
            "Epoch 6/100\n",
            "313/313 [==============================] - 6s 21ms/step - loss: 0.5647 - accuracy: 0.7679 - val_loss: 0.5683 - val_accuracy: 0.7474\n",
            "Epoch 7/100\n",
            "313/313 [==============================] - 6s 21ms/step - loss: 0.5445 - accuracy: 0.7746 - val_loss: 0.5451 - val_accuracy: 0.7676\n",
            "Epoch 8/100\n",
            "313/313 [==============================] - 6s 21ms/step - loss: 0.5262 - accuracy: 0.7792 - val_loss: 0.5291 - val_accuracy: 0.7730\n",
            "Epoch 9/100\n",
            "313/313 [==============================] - 6s 21ms/step - loss: 0.5088 - accuracy: 0.7862 - val_loss: 0.5168 - val_accuracy: 0.7716\n",
            "Epoch 10/100\n",
            "313/313 [==============================] - 6s 20ms/step - loss: 0.4933 - accuracy: 0.7914 - val_loss: 0.5036 - val_accuracy: 0.7812\n",
            "Epoch 11/100\n",
            "313/313 [==============================] - 6s 21ms/step - loss: 0.4796 - accuracy: 0.7955 - val_loss: 0.4919 - val_accuracy: 0.7852\n",
            "Epoch 12/100\n",
            "313/313 [==============================] - 7s 21ms/step - loss: 0.4675 - accuracy: 0.7998 - val_loss: 0.4835 - val_accuracy: 0.7850\n",
            "Epoch 13/100\n",
            "313/313 [==============================] - 7s 21ms/step - loss: 0.4571 - accuracy: 0.8046 - val_loss: 0.4801 - val_accuracy: 0.7826\n",
            "Epoch 14/100\n",
            "313/313 [==============================] - 7s 21ms/step - loss: 0.4489 - accuracy: 0.8062 - val_loss: 0.4795 - val_accuracy: 0.7780\n",
            "Epoch 15/100\n",
            "313/313 [==============================] - 6s 21ms/step - loss: 0.4416 - accuracy: 0.8074 - val_loss: 0.4682 - val_accuracy: 0.7866\n",
            "Epoch 16/100\n",
            "313/313 [==============================] - 7s 21ms/step - loss: 0.4355 - accuracy: 0.8101 - val_loss: 0.4681 - val_accuracy: 0.7858\n",
            "Epoch 17/100\n",
            "313/313 [==============================] - 6s 21ms/step - loss: 0.4304 - accuracy: 0.8117 - val_loss: 0.4620 - val_accuracy: 0.7874\n",
            "Epoch 18/100\n",
            "313/313 [==============================] - 7s 21ms/step - loss: 0.4265 - accuracy: 0.8126 - val_loss: 0.4599 - val_accuracy: 0.7894\n",
            "Epoch 19/100\n",
            "313/313 [==============================] - 7s 21ms/step - loss: 0.4229 - accuracy: 0.8156 - val_loss: 0.4609 - val_accuracy: 0.7882\n",
            "Epoch 20/100\n",
            "313/313 [==============================] - 6s 21ms/step - loss: 0.4194 - accuracy: 0.8163 - val_loss: 0.4596 - val_accuracy: 0.7880\n",
            "Epoch 21/100\n",
            "313/313 [==============================] - 6s 20ms/step - loss: 0.4162 - accuracy: 0.8177 - val_loss: 0.4577 - val_accuracy: 0.7896\n",
            "Epoch 22/100\n",
            "313/313 [==============================] - 7s 21ms/step - loss: 0.4139 - accuracy: 0.8194 - val_loss: 0.4570 - val_accuracy: 0.7896\n",
            "Epoch 23/100\n",
            "313/313 [==============================] - 6s 21ms/step - loss: 0.4113 - accuracy: 0.8205 - val_loss: 0.4623 - val_accuracy: 0.7890\n",
            "Epoch 24/100\n",
            "313/313 [==============================] - 7s 21ms/step - loss: 0.4093 - accuracy: 0.8209 - val_loss: 0.4595 - val_accuracy: 0.7902\n",
            "Epoch 25/100\n",
            "313/313 [==============================] - 6s 21ms/step - loss: 0.4077 - accuracy: 0.8209 - val_loss: 0.4600 - val_accuracy: 0.7894\n"
          ],
          "name": "stdout"
        }
      ]
    },
    {
      "cell_type": "code",
      "metadata": {
        "colab": {
          "base_uri": "https://localhost:8080/",
          "height": 279
        },
        "id": "neeEZdCsYh2Y",
        "outputId": "1ff30fbb-e9e9-4684-d0b3-1a1c9826329f"
      },
      "source": [
        "plt.plot(history.history['loss'])\n",
        "plt.plot(history.history['val_loss'])\n",
        "plt.xlabel('epoch')\n",
        "plt.ylabel('loss')\n",
        "plt.legend(['train','val'])\n",
        "plt.show()"
      ],
      "execution_count": 34,
      "outputs": [
        {
          "output_type": "display_data",
          "data": {
            "image/png": "[encoded data removed]",
            "text/plain": [
              "<Figure size 432x288 with 1 Axes>"
            ]
          },
          "metadata": {
            "tags": [],
            "needs_background": "light"
          }
        }
      ]
    },
    {
      "cell_type": "code",
      "metadata": {
        "id": "BOjNWFZGYnfL"
      },
      "source": [
        "#lstm 신경망\n",
        "from tensorflow.keras.datasets import imdb\n",
        "from sklearn.model_selection import train_test_split\n",
        "train_input, val_input, train_target, val_target = train_test_split(\n",
        "    train_input,train_target,test_size=0.2, random_state=42\n",
        ")\n"
      ],
      "execution_count": 36,
      "outputs": []
    },
    {
      "cell_type": "code",
      "metadata": {
        "id": "kcVxwEksrwez"
      },
      "source": [
        "from tensorflow.keras.preprocessing.sequence import pad_sequences\n",
        "train_seq = pad_sequences(train_input,maxlen=100)\n",
        "val_seq = pad_sequences(val_input,maxlen=100)"
      ],
      "execution_count": 37,
      "outputs": []
    },
    {
      "cell_type": "code",
      "metadata": {
        "id": "RgMa--mIsEPN"
      },
      "source": [
        "from tensorflow import keras\n",
        "model = keras.Sequential()\n",
        "model.add(keras.layers.Embedding(500,16,input_length=100))\n",
        "model.add(keras.layers.LSTM(8))\n",
        "model.add(keras.layers.Dense(1,activation='sigmoid'))"
      ],
      "execution_count": 39,
      "outputs": []
    },
    {
      "cell_type": "code",
      "metadata": {
        "colab": {
          "base_uri": "https://localhost:8080/"
        },
        "id": "_TBiHIzTsdeg",
        "outputId": "52ae4d38-4b89-4e6a-bf44-49055bb0cd8a"
      },
      "source": [
        "model.summary()"
      ],
      "execution_count": 40,
      "outputs": [
        {
          "output_type": "stream",
          "text": [
            "Model: \"sequential_3\"\n",
            "_________________________________________________________________\n",
            "Layer (type)                 Output Shape              Param #   \n",
            "=================================================================\n",
            "embedding_2 (Embedding)      (None, 100, 16)           8000      \n",
            "_________________________________________________________________\n",
            "lstm_1 (LSTM)                (None, 8)                 800       \n",
            "_________________________________________________________________\n",
            "dense_2 (Dense)              (None, 1)                 9         \n",
            "=================================================================\n",
            "Total params: 8,809\n",
            "Trainable params: 8,809\n",
            "Non-trainable params: 0\n",
            "_________________________________________________________________\n"
          ],
          "name": "stdout"
        }
      ]
    },
    {
      "cell_type": "code",
      "metadata": {
        "colab": {
          "base_uri": "https://localhost:8080/"
        },
        "id": "bHk7HQ9psiPV",
        "outputId": "b557f7e1-6ec6-4cb6-8bc3-9c70c0e04de0"
      },
      "source": [
        "rmsprop = keras.optimizers.RMSprop(learning_rate=1e-4)\n",
        "model.compile(optimizer=rmsprop,loss='binary_crossentropy',\n",
        "              metrics=['accuracy'])\n",
        "checkpoint_cb = keras.callbacks.ModelCheckpoint('best-simplernn-model.h5')\n",
        "early_stopping_cb = keras.callbacks.EarlyStopping(patience=3,restore_best_weights=True)\n",
        "history = model.fit(train_seq,train_target,epochs=100,batch_size=64,\n",
        "                    validation_data=(val_seq,val_target),callbacks=[checkpoint_cb,early_stopping_cb])"
      ],
      "execution_count": 41,
      "outputs": [
        {
          "output_type": "stream",
          "text": [
            "Epoch 1/100\n",
            "250/250 [==============================] - 9s 29ms/step - loss: 0.6923 - accuracy: 0.5322 - val_loss: 0.6919 - val_accuracy: 0.5285\n",
            "Epoch 2/100\n",
            "250/250 [==============================] - 7s 27ms/step - loss: 0.6900 - accuracy: 0.5763 - val_loss: 0.6892 - val_accuracy: 0.5717\n",
            "Epoch 3/100\n",
            "250/250 [==============================] - 7s 27ms/step - loss: 0.6858 - accuracy: 0.6184 - val_loss: 0.6836 - val_accuracy: 0.6200\n",
            "Epoch 4/100\n",
            "250/250 [==============================] - 7s 27ms/step - loss: 0.6768 - accuracy: 0.6495 - val_loss: 0.6698 - val_accuracy: 0.6643\n",
            "Epoch 5/100\n",
            "250/250 [==============================] - 7s 27ms/step - loss: 0.6428 - accuracy: 0.6963 - val_loss: 0.5970 - val_accuracy: 0.7180\n",
            "Epoch 6/100\n",
            "250/250 [==============================] - 7s 27ms/step - loss: 0.5723 - accuracy: 0.7239 - val_loss: 0.5577 - val_accuracy: 0.7340\n",
            "Epoch 7/100\n",
            "250/250 [==============================] - 7s 27ms/step - loss: 0.5490 - accuracy: 0.7398 - val_loss: 0.5388 - val_accuracy: 0.7498\n",
            "Epoch 8/100\n",
            "250/250 [==============================] - 7s 27ms/step - loss: 0.5304 - accuracy: 0.7534 - val_loss: 0.5236 - val_accuracy: 0.7548\n",
            "Epoch 9/100\n",
            "250/250 [==============================] - 7s 27ms/step - loss: 0.5141 - accuracy: 0.7667 - val_loss: 0.5093 - val_accuracy: 0.7657\n",
            "Epoch 10/100\n",
            "250/250 [==============================] - 7s 27ms/step - loss: 0.4997 - accuracy: 0.7747 - val_loss: 0.4967 - val_accuracy: 0.7722\n",
            "Epoch 11/100\n",
            "250/250 [==============================] - 7s 27ms/step - loss: 0.4873 - accuracy: 0.7849 - val_loss: 0.4863 - val_accuracy: 0.7788\n",
            "Epoch 12/100\n",
            "250/250 [==============================] - 7s 27ms/step - loss: 0.4770 - accuracy: 0.7897 - val_loss: 0.4782 - val_accuracy: 0.7815\n",
            "Epoch 13/100\n",
            "250/250 [==============================] - 7s 27ms/step - loss: 0.4680 - accuracy: 0.7931 - val_loss: 0.4711 - val_accuracy: 0.7850\n",
            "Epoch 14/100\n",
            "250/250 [==============================] - 7s 27ms/step - loss: 0.4606 - accuracy: 0.7978 - val_loss: 0.4672 - val_accuracy: 0.7875\n",
            "Epoch 15/100\n",
            "250/250 [==============================] - 7s 28ms/step - loss: 0.4542 - accuracy: 0.7995 - val_loss: 0.4629 - val_accuracy: 0.7885\n",
            "Epoch 16/100\n",
            "250/250 [==============================] - 7s 27ms/step - loss: 0.4489 - accuracy: 0.8020 - val_loss: 0.4574 - val_accuracy: 0.7893\n",
            "Epoch 17/100\n",
            "250/250 [==============================] - 7s 27ms/step - loss: 0.4439 - accuracy: 0.8037 - val_loss: 0.4531 - val_accuracy: 0.7918\n",
            "Epoch 18/100\n",
            "250/250 [==============================] - 7s 28ms/step - loss: 0.4403 - accuracy: 0.8064 - val_loss: 0.4504 - val_accuracy: 0.7935\n",
            "Epoch 19/100\n",
            "250/250 [==============================] - 7s 28ms/step - loss: 0.4366 - accuracy: 0.8077 - val_loss: 0.4474 - val_accuracy: 0.7940\n",
            "Epoch 20/100\n",
            "250/250 [==============================] - 7s 27ms/step - loss: 0.4333 - accuracy: 0.8089 - val_loss: 0.4468 - val_accuracy: 0.7908\n",
            "Epoch 21/100\n",
            "250/250 [==============================] - 7s 27ms/step - loss: 0.4299 - accuracy: 0.8110 - val_loss: 0.4441 - val_accuracy: 0.7960\n",
            "Epoch 22/100\n",
            "250/250 [==============================] - 7s 27ms/step - loss: 0.4277 - accuracy: 0.8126 - val_loss: 0.4475 - val_accuracy: 0.7900\n",
            "Epoch 23/100\n",
            "250/250 [==============================] - 7s 28ms/step - loss: 0.4250 - accuracy: 0.8116 - val_loss: 0.4406 - val_accuracy: 0.7937\n",
            "Epoch 24/100\n",
            "250/250 [==============================] - 7s 28ms/step - loss: 0.4231 - accuracy: 0.8136 - val_loss: 0.4418 - val_accuracy: 0.7930\n",
            "Epoch 25/100\n",
            "250/250 [==============================] - 7s 27ms/step - loss: 0.4212 - accuracy: 0.8118 - val_loss: 0.4386 - val_accuracy: 0.7933\n",
            "Epoch 26/100\n",
            "250/250 [==============================] - 7s 28ms/step - loss: 0.4190 - accuracy: 0.8128 - val_loss: 0.4362 - val_accuracy: 0.7935\n",
            "Epoch 27/100\n",
            "250/250 [==============================] - 7s 28ms/step - loss: 0.4174 - accuracy: 0.8129 - val_loss: 0.4363 - val_accuracy: 0.7933\n",
            "Epoch 28/100\n",
            "250/250 [==============================] - 7s 27ms/step - loss: 0.4160 - accuracy: 0.8158 - val_loss: 0.4339 - val_accuracy: 0.7950\n",
            "Epoch 29/100\n",
            "250/250 [==============================] - 7s 27ms/step - loss: 0.4141 - accuracy: 0.8163 - val_loss: 0.4338 - val_accuracy: 0.7952\n",
            "Epoch 30/100\n",
            "250/250 [==============================] - 7s 28ms/step - loss: 0.4131 - accuracy: 0.8162 - val_loss: 0.4361 - val_accuracy: 0.7935\n",
            "Epoch 31/100\n",
            "250/250 [==============================] - 7s 28ms/step - loss: 0.4121 - accuracy: 0.8143 - val_loss: 0.4330 - val_accuracy: 0.7950\n",
            "Epoch 32/100\n",
            "250/250 [==============================] - 7s 28ms/step - loss: 0.4107 - accuracy: 0.8166 - val_loss: 0.4325 - val_accuracy: 0.7972\n",
            "Epoch 33/100\n",
            "250/250 [==============================] - 7s 28ms/step - loss: 0.4099 - accuracy: 0.8167 - val_loss: 0.4328 - val_accuracy: 0.7955\n",
            "Epoch 34/100\n",
            "250/250 [==============================] - 7s 28ms/step - loss: 0.4085 - accuracy: 0.8157 - val_loss: 0.4315 - val_accuracy: 0.7962\n",
            "Epoch 35/100\n",
            "250/250 [==============================] - 7s 28ms/step - loss: 0.4074 - accuracy: 0.8169 - val_loss: 0.4351 - val_accuracy: 0.7995\n",
            "Epoch 36/100\n",
            "250/250 [==============================] - 7s 28ms/step - loss: 0.4071 - accuracy: 0.8170 - val_loss: 0.4327 - val_accuracy: 0.7950\n",
            "Epoch 37/100\n",
            "250/250 [==============================] - 7s 28ms/step - loss: 0.4059 - accuracy: 0.8183 - val_loss: 0.4309 - val_accuracy: 0.7980\n",
            "Epoch 38/100\n",
            "250/250 [==============================] - 7s 27ms/step - loss: 0.4051 - accuracy: 0.8183 - val_loss: 0.4300 - val_accuracy: 0.7968\n",
            "Epoch 39/100\n",
            "250/250 [==============================] - 7s 28ms/step - loss: 0.4042 - accuracy: 0.8189 - val_loss: 0.4305 - val_accuracy: 0.7987\n",
            "Epoch 40/100\n",
            "250/250 [==============================] - 7s 29ms/step - loss: 0.4036 - accuracy: 0.8179 - val_loss: 0.4312 - val_accuracy: 0.7970\n",
            "Epoch 41/100\n",
            "250/250 [==============================] - 7s 28ms/step - loss: 0.4027 - accuracy: 0.8196 - val_loss: 0.4300 - val_accuracy: 0.7993\n",
            "Epoch 42/100\n",
            "250/250 [==============================] - 7s 28ms/step - loss: 0.4022 - accuracy: 0.8177 - val_loss: 0.4295 - val_accuracy: 0.7972\n",
            "Epoch 43/100\n",
            "250/250 [==============================] - 7s 29ms/step - loss: 0.4019 - accuracy: 0.8183 - val_loss: 0.4289 - val_accuracy: 0.7983\n",
            "Epoch 44/100\n",
            "250/250 [==============================] - 7s 29ms/step - loss: 0.4009 - accuracy: 0.8183 - val_loss: 0.4298 - val_accuracy: 0.7962\n",
            "Epoch 45/100\n",
            "250/250 [==============================] - 7s 29ms/step - loss: 0.3999 - accuracy: 0.8198 - val_loss: 0.4316 - val_accuracy: 0.7993\n",
            "Epoch 46/100\n",
            "250/250 [==============================] - 7s 28ms/step - loss: 0.3997 - accuracy: 0.8199 - val_loss: 0.4303 - val_accuracy: 0.7987\n"
          ],
          "name": "stdout"
        }
      ]
    },
    {
      "cell_type": "code",
      "metadata": {
        "colab": {
          "base_uri": "https://localhost:8080/",
          "height": 279
        },
        "id": "xqZShwgxsorx",
        "outputId": "7aa5356d-c464-4413-a342-0b15384c198e"
      },
      "source": [
        "plt.plot(history.history['loss'])\n",
        "plt.plot(history.history['val_loss'])\n",
        "plt.xlabel('epoch')\n",
        "plt.ylabel('loss')\n",
        "plt.legend(['train','val'])\n",
        "plt.show()"
      ],
      "execution_count": 42,
      "outputs": [
        {
          "output_type": "display_data",
          "data": {
            "image/png": "[encoded data removed]",
            "text/plain": [
              "<Figure size 432x288 with 1 Axes>"
            ]
          },
          "metadata": {
            "tags": [],
            "needs_background": "light"
          }
        }
      ]
    },
    {
      "cell_type": "code",
      "metadata": {
        "id": "C-iiXpaFxR_7"
      },
      "source": [
        "#드롭아웃\n",
        "model2 = keras.Sequential()\n",
        "model2.add(keras.layers.Embedding(500,16,input_length=100))\n",
        "model2.add(keras.layers.LSTM(8,dropout=0.3))\n",
        "model2.add(keras.layers.Dense(1,activation='sigmoid'))"
      ],
      "execution_count": 45,
      "outputs": []
    },
    {
      "cell_type": "code",
      "metadata": {
        "colab": {
          "base_uri": "https://localhost:8080/"
        },
        "id": "QLvXRgpgxZIZ",
        "outputId": "3370acb4-3ab6-4cd8-e32c-bd0619cce330"
      },
      "source": [
        "rmsprop = keras.optimizers.RMSprop(learning_rate=1e-4)\n",
        "model2.compile(optimizer=rmsprop,loss='binary_crossentropy',\n",
        "              metrics=['accuracy'])\n",
        "checkpoint_cb = keras.callbacks.ModelCheckpoint('best-simplernn-model.h5')\n",
        "early_stopping_cb = keras.callbacks.EarlyStopping(patience=3,restore_best_weights=True)\n",
        "history = model2.fit(train_seq,train_target,epochs=100,batch_size=64,\n",
        "                    validation_data=(val_seq,val_target),callbacks=[checkpoint_cb,early_stopping_cb])"
      ],
      "execution_count": 46,
      "outputs": [
        {
          "output_type": "stream",
          "text": [
            "Epoch 1/100\n",
            "250/250 [==============================] - 9s 31ms/step - loss: 0.6927 - accuracy: 0.5275 - val_loss: 0.6923 - val_accuracy: 0.5430\n",
            "Epoch 2/100\n",
            "250/250 [==============================] - 7s 29ms/step - loss: 0.6910 - accuracy: 0.5761 - val_loss: 0.6897 - val_accuracy: 0.6018\n",
            "Epoch 3/100\n",
            "250/250 [==============================] - 7s 29ms/step - loss: 0.6861 - accuracy: 0.6151 - val_loss: 0.6810 - val_accuracy: 0.5910\n",
            "Epoch 4/100\n",
            "250/250 [==============================] - 7s 29ms/step - loss: 0.6608 - accuracy: 0.6275 - val_loss: 0.6338 - val_accuracy: 0.7067\n",
            "Epoch 5/100\n",
            "250/250 [==============================] - 7s 29ms/step - loss: 0.6186 - accuracy: 0.7134 - val_loss: 0.6064 - val_accuracy: 0.7293\n",
            "Epoch 6/100\n",
            "250/250 [==============================] - 7s 29ms/step - loss: 0.6007 - accuracy: 0.7278 - val_loss: 0.5889 - val_accuracy: 0.7442\n",
            "Epoch 7/100\n",
            "250/250 [==============================] - 7s 29ms/step - loss: 0.5811 - accuracy: 0.7477 - val_loss: 0.5749 - val_accuracy: 0.7590\n",
            "Epoch 8/100\n",
            "250/250 [==============================] - 7s 29ms/step - loss: 0.5683 - accuracy: 0.7531 - val_loss: 0.5620 - val_accuracy: 0.7690\n",
            "Epoch 9/100\n",
            "250/250 [==============================] - 7s 29ms/step - loss: 0.5571 - accuracy: 0.7601 - val_loss: 0.5512 - val_accuracy: 0.7740\n",
            "Epoch 10/100\n",
            "250/250 [==============================] - 7s 29ms/step - loss: 0.5457 - accuracy: 0.7651 - val_loss: 0.5402 - val_accuracy: 0.7765\n",
            "Epoch 11/100\n",
            "250/250 [==============================] - 7s 29ms/step - loss: 0.5336 - accuracy: 0.7689 - val_loss: 0.5312 - val_accuracy: 0.7738\n",
            "Epoch 12/100\n",
            "250/250 [==============================] - 7s 29ms/step - loss: 0.5235 - accuracy: 0.7760 - val_loss: 0.5232 - val_accuracy: 0.7710\n",
            "Epoch 13/100\n",
            "250/250 [==============================] - 7s 29ms/step - loss: 0.5141 - accuracy: 0.7764 - val_loss: 0.5137 - val_accuracy: 0.7730\n",
            "Epoch 14/100\n",
            "250/250 [==============================] - 7s 29ms/step - loss: 0.5042 - accuracy: 0.7813 - val_loss: 0.5041 - val_accuracy: 0.7770\n",
            "Epoch 15/100\n",
            "250/250 [==============================] - 7s 29ms/step - loss: 0.4959 - accuracy: 0.7831 - val_loss: 0.4944 - val_accuracy: 0.7830\n",
            "Epoch 16/100\n",
            "250/250 [==============================] - 7s 29ms/step - loss: 0.4875 - accuracy: 0.7876 - val_loss: 0.4877 - val_accuracy: 0.7865\n",
            "Epoch 17/100\n",
            "250/250 [==============================] - 7s 29ms/step - loss: 0.4806 - accuracy: 0.7879 - val_loss: 0.4802 - val_accuracy: 0.7880\n",
            "Epoch 18/100\n",
            "250/250 [==============================] - 7s 29ms/step - loss: 0.4740 - accuracy: 0.7921 - val_loss: 0.4762 - val_accuracy: 0.7912\n",
            "Epoch 19/100\n",
            "250/250 [==============================] - 7s 29ms/step - loss: 0.4689 - accuracy: 0.7961 - val_loss: 0.4718 - val_accuracy: 0.7912\n",
            "Epoch 20/100\n",
            "250/250 [==============================] - 7s 29ms/step - loss: 0.4639 - accuracy: 0.7932 - val_loss: 0.4665 - val_accuracy: 0.7885\n",
            "Epoch 21/100\n",
            "250/250 [==============================] - 7s 29ms/step - loss: 0.4606 - accuracy: 0.7956 - val_loss: 0.4628 - val_accuracy: 0.7940\n",
            "Epoch 22/100\n",
            "250/250 [==============================] - 7s 29ms/step - loss: 0.4574 - accuracy: 0.7961 - val_loss: 0.4595 - val_accuracy: 0.7912\n",
            "Epoch 23/100\n",
            "250/250 [==============================] - 7s 29ms/step - loss: 0.4527 - accuracy: 0.7981 - val_loss: 0.4550 - val_accuracy: 0.7947\n",
            "Epoch 24/100\n",
            "250/250 [==============================] - 7s 29ms/step - loss: 0.4511 - accuracy: 0.7989 - val_loss: 0.4525 - val_accuracy: 0.7955\n",
            "Epoch 25/100\n",
            "250/250 [==============================] - 7s 29ms/step - loss: 0.4451 - accuracy: 0.8011 - val_loss: 0.4504 - val_accuracy: 0.7958\n",
            "Epoch 26/100\n",
            "250/250 [==============================] - 7s 29ms/step - loss: 0.4456 - accuracy: 0.8054 - val_loss: 0.4497 - val_accuracy: 0.7975\n",
            "Epoch 27/100\n",
            "250/250 [==============================] - 7s 29ms/step - loss: 0.4410 - accuracy: 0.8051 - val_loss: 0.4447 - val_accuracy: 0.7995\n",
            "Epoch 28/100\n",
            "250/250 [==============================] - 7s 29ms/step - loss: 0.4377 - accuracy: 0.8019 - val_loss: 0.4435 - val_accuracy: 0.7990\n",
            "Epoch 29/100\n",
            "250/250 [==============================] - 7s 29ms/step - loss: 0.4368 - accuracy: 0.8027 - val_loss: 0.4425 - val_accuracy: 0.7975\n",
            "Epoch 30/100\n",
            "250/250 [==============================] - 7s 30ms/step - loss: 0.4365 - accuracy: 0.8029 - val_loss: 0.4394 - val_accuracy: 0.8018\n",
            "Epoch 31/100\n",
            "250/250 [==============================] - 7s 29ms/step - loss: 0.4332 - accuracy: 0.8074 - val_loss: 0.4391 - val_accuracy: 0.8008\n",
            "Epoch 32/100\n",
            "250/250 [==============================] - 7s 29ms/step - loss: 0.4324 - accuracy: 0.8043 - val_loss: 0.4389 - val_accuracy: 0.8000\n",
            "Epoch 33/100\n",
            "250/250 [==============================] - 7s 29ms/step - loss: 0.4328 - accuracy: 0.8066 - val_loss: 0.4372 - val_accuracy: 0.8010\n",
            "Epoch 34/100\n",
            "250/250 [==============================] - 7s 29ms/step - loss: 0.4296 - accuracy: 0.8056 - val_loss: 0.4360 - val_accuracy: 0.8002\n",
            "Epoch 35/100\n",
            "250/250 [==============================] - 7s 29ms/step - loss: 0.4291 - accuracy: 0.8074 - val_loss: 0.4369 - val_accuracy: 0.8008\n",
            "Epoch 36/100\n",
            "250/250 [==============================] - 7s 29ms/step - loss: 0.4270 - accuracy: 0.8076 - val_loss: 0.4366 - val_accuracy: 0.8000\n",
            "Epoch 37/100\n",
            "250/250 [==============================] - 7s 30ms/step - loss: 0.4273 - accuracy: 0.8074 - val_loss: 0.4345 - val_accuracy: 0.8045\n",
            "Epoch 38/100\n",
            "250/250 [==============================] - 7s 29ms/step - loss: 0.4239 - accuracy: 0.8086 - val_loss: 0.4351 - val_accuracy: 0.8043\n",
            "Epoch 39/100\n",
            "250/250 [==============================] - 7s 30ms/step - loss: 0.4240 - accuracy: 0.8080 - val_loss: 0.4316 - val_accuracy: 0.8015\n",
            "Epoch 40/100\n",
            "250/250 [==============================] - 7s 29ms/step - loss: 0.4234 - accuracy: 0.8096 - val_loss: 0.4318 - val_accuracy: 0.8012\n",
            "Epoch 41/100\n",
            "250/250 [==============================] - 7s 29ms/step - loss: 0.4228 - accuracy: 0.8113 - val_loss: 0.4304 - val_accuracy: 0.8027\n",
            "Epoch 42/100\n",
            "250/250 [==============================] - 7s 30ms/step - loss: 0.4226 - accuracy: 0.8100 - val_loss: 0.4294 - val_accuracy: 0.8025\n",
            "Epoch 43/100\n",
            "250/250 [==============================] - 7s 29ms/step - loss: 0.4210 - accuracy: 0.8108 - val_loss: 0.4319 - val_accuracy: 0.8035\n",
            "Epoch 44/100\n",
            "250/250 [==============================] - 7s 30ms/step - loss: 0.4189 - accuracy: 0.8124 - val_loss: 0.4289 - val_accuracy: 0.8023\n",
            "Epoch 45/100\n",
            "250/250 [==============================] - 7s 30ms/step - loss: 0.4200 - accuracy: 0.8091 - val_loss: 0.4277 - val_accuracy: 0.8005\n",
            "Epoch 46/100\n",
            "250/250 [==============================] - 7s 29ms/step - loss: 0.4184 - accuracy: 0.8100 - val_loss: 0.4290 - val_accuracy: 0.8048\n",
            "Epoch 47/100\n",
            "250/250 [==============================] - 7s 29ms/step - loss: 0.4185 - accuracy: 0.8117 - val_loss: 0.4301 - val_accuracy: 0.8020\n",
            "Epoch 48/100\n",
            "250/250 [==============================] - 7s 29ms/step - loss: 0.4166 - accuracy: 0.8108 - val_loss: 0.4325 - val_accuracy: 0.8052\n"
          ],
          "name": "stdout"
        }
      ]
    },
    {
      "cell_type": "code",
      "metadata": {
        "colab": {
          "base_uri": "https://localhost:8080/",
          "height": 279
        },
        "id": "bMXO0XolxgDR",
        "outputId": "3aac4c13-b049-4504-ca15-36dd766bcf2e"
      },
      "source": [
        "plt.plot(history.history['loss'])\n",
        "plt.plot(history.history['val_loss'])\n",
        "plt.xlabel('epoch')\n",
        "plt.ylabel('loss')\n",
        "plt.legend(['train','val'])\n",
        "plt.show()"
      ],
      "execution_count": 47,
      "outputs": [
        {
          "output_type": "display_data",
          "data": {
            "image/png": "[encoded data removed]",
            "text/plain": [
              "<Figure size 432x288 with 1 Axes>"
            ]
          },
          "metadata": {
            "tags": [],
            "needs_background": "light"
          }
        }
      ]
    },
    {
      "cell_type": "code",
      "metadata": {
        "id": "NEUrvdN-xtcF"
      },
      "source": [
        "#2개의 층 연결\n",
        "model3 = keras.Sequential()\n",
        "model3.add(keras.layers.Embedding(500,16,input_length=100))\n",
        "model3.add(keras.layers.LSTM(8,dropout=0.3, return_sequences=True))\n",
        "model3.add(keras.layers.LSTM(8,dropout=0.3))\n",
        "model3.add(keras.layers.Dense(1,activation='sigmoid'))"
      ],
      "execution_count": 48,
      "outputs": []
    },
    {
      "cell_type": "code",
      "metadata": {
        "colab": {
          "base_uri": "https://localhost:8080/"
        },
        "id": "_Q3OF86mx67S",
        "outputId": "3556dc3d-3a30-41fe-f5b2-098e7c4e7948"
      },
      "source": [
        "model.summary()"
      ],
      "execution_count": 49,
      "outputs": [
        {
          "output_type": "stream",
          "text": [
            "Model: \"sequential_3\"\n",
            "_________________________________________________________________\n",
            "Layer (type)                 Output Shape              Param #   \n",
            "=================================================================\n",
            "embedding_2 (Embedding)      (None, 100, 16)           8000      \n",
            "_________________________________________________________________\n",
            "lstm_1 (LSTM)                (None, 8)                 800       \n",
            "_________________________________________________________________\n",
            "dense_2 (Dense)              (None, 1)                 9         \n",
            "=================================================================\n",
            "Total params: 8,809\n",
            "Trainable params: 8,809\n",
            "Non-trainable params: 0\n",
            "_________________________________________________________________\n"
          ],
          "name": "stdout"
        }
      ]
    },
    {
      "cell_type": "code",
      "metadata": {
        "colab": {
          "base_uri": "https://localhost:8080/"
        },
        "id": "bRzMtv19x85j",
        "outputId": "a94c582f-120f-45f8-c2bd-8b45867cf007"
      },
      "source": [
        "rmsprop = keras.optimizers.RMSprop(learning_rate=1e-4)\n",
        "model3.compile(optimizer=rmsprop,loss='binary_crossentropy',\n",
        "              metrics=['accuracy'])\n",
        "checkpoint_cb = keras.callbacks.ModelCheckpoint('best-simplernn-model.h5')\n",
        "early_stopping_cb = keras.callbacks.EarlyStopping(patience=3,restore_best_weights=True)\n",
        "history = model3.fit(train_seq,train_target,epochs=100,batch_size=64,\n",
        "                    validation_data=(val_seq,val_target),callbacks=[checkpoint_cb,early_stopping_cb])"
      ],
      "execution_count": 50,
      "outputs": [
        {
          "output_type": "stream",
          "text": [
            "Epoch 1/100\n",
            "250/250 [==============================] - 17s 56ms/step - loss: 0.6930 - accuracy: 0.5046 - val_loss: 0.6929 - val_accuracy: 0.5055\n",
            "Epoch 2/100\n",
            "250/250 [==============================] - 13s 51ms/step - loss: 0.6923 - accuracy: 0.5324 - val_loss: 0.6919 - val_accuracy: 0.5307\n",
            "Epoch 3/100\n",
            "250/250 [==============================] - 13s 51ms/step - loss: 0.6906 - accuracy: 0.5698 - val_loss: 0.6889 - val_accuracy: 0.5965\n",
            "Epoch 4/100\n",
            "250/250 [==============================] - 13s 52ms/step - loss: 0.6836 - accuracy: 0.6356 - val_loss: 0.6747 - val_accuracy: 0.5738\n",
            "Epoch 5/100\n",
            "250/250 [==============================] - 13s 52ms/step - loss: 0.6405 - accuracy: 0.6602 - val_loss: 0.6055 - val_accuracy: 0.7170\n",
            "Epoch 6/100\n",
            "250/250 [==============================] - 13s 53ms/step - loss: 0.5817 - accuracy: 0.7158 - val_loss: 0.5632 - val_accuracy: 0.7280\n",
            "Epoch 7/100\n",
            "250/250 [==============================] - 14s 54ms/step - loss: 0.5512 - accuracy: 0.7351 - val_loss: 0.5347 - val_accuracy: 0.7505\n",
            "Epoch 8/100\n",
            "250/250 [==============================] - 14s 55ms/step - loss: 0.5273 - accuracy: 0.7518 - val_loss: 0.5162 - val_accuracy: 0.7628\n",
            "Epoch 9/100\n",
            "250/250 [==============================] - 14s 54ms/step - loss: 0.5087 - accuracy: 0.7623 - val_loss: 0.4980 - val_accuracy: 0.7685\n",
            "Epoch 10/100\n",
            "250/250 [==============================] - 13s 54ms/step - loss: 0.4985 - accuracy: 0.7688 - val_loss: 0.4879 - val_accuracy: 0.7730\n",
            "Epoch 11/100\n",
            "250/250 [==============================] - 13s 52ms/step - loss: 0.4875 - accuracy: 0.7749 - val_loss: 0.4782 - val_accuracy: 0.7788\n",
            "Epoch 12/100\n",
            "250/250 [==============================] - 13s 52ms/step - loss: 0.4802 - accuracy: 0.7789 - val_loss: 0.4717 - val_accuracy: 0.7832\n",
            "Epoch 13/100\n",
            "250/250 [==============================] - 13s 54ms/step - loss: 0.4754 - accuracy: 0.7807 - val_loss: 0.4651 - val_accuracy: 0.7837\n",
            "Epoch 14/100\n",
            "250/250 [==============================] - 13s 53ms/step - loss: 0.4681 - accuracy: 0.7860 - val_loss: 0.4611 - val_accuracy: 0.7862\n",
            "Epoch 15/100\n",
            "250/250 [==============================] - 13s 52ms/step - loss: 0.4622 - accuracy: 0.7867 - val_loss: 0.4583 - val_accuracy: 0.7862\n",
            "Epoch 16/100\n",
            "250/250 [==============================] - 13s 52ms/step - loss: 0.4592 - accuracy: 0.7928 - val_loss: 0.4532 - val_accuracy: 0.7903\n",
            "Epoch 17/100\n",
            "250/250 [==============================] - 13s 52ms/step - loss: 0.4568 - accuracy: 0.7928 - val_loss: 0.4505 - val_accuracy: 0.7897\n",
            "Epoch 18/100\n",
            "250/250 [==============================] - 13s 52ms/step - loss: 0.4521 - accuracy: 0.7936 - val_loss: 0.4481 - val_accuracy: 0.7922\n",
            "Epoch 19/100\n",
            "250/250 [==============================] - 13s 53ms/step - loss: 0.4488 - accuracy: 0.7944 - val_loss: 0.4462 - val_accuracy: 0.7885\n",
            "Epoch 20/100\n",
            "250/250 [==============================] - 13s 52ms/step - loss: 0.4477 - accuracy: 0.7926 - val_loss: 0.4440 - val_accuracy: 0.7918\n",
            "Epoch 21/100\n",
            "250/250 [==============================] - 13s 53ms/step - loss: 0.4451 - accuracy: 0.7983 - val_loss: 0.4449 - val_accuracy: 0.7903\n",
            "Epoch 22/100\n",
            "250/250 [==============================] - 13s 54ms/step - loss: 0.4415 - accuracy: 0.8010 - val_loss: 0.4420 - val_accuracy: 0.7925\n",
            "Epoch 23/100\n",
            "250/250 [==============================] - 14s 54ms/step - loss: 0.4413 - accuracy: 0.7964 - val_loss: 0.4403 - val_accuracy: 0.7943\n",
            "Epoch 24/100\n",
            "250/250 [==============================] - 13s 54ms/step - loss: 0.4414 - accuracy: 0.7989 - val_loss: 0.4393 - val_accuracy: 0.7918\n",
            "Epoch 25/100\n",
            "250/250 [==============================] - 13s 53ms/step - loss: 0.4378 - accuracy: 0.8018 - val_loss: 0.4380 - val_accuracy: 0.7975\n",
            "Epoch 26/100\n",
            "250/250 [==============================] - 13s 53ms/step - loss: 0.4364 - accuracy: 0.8026 - val_loss: 0.4363 - val_accuracy: 0.7925\n",
            "Epoch 27/100\n",
            "250/250 [==============================] - 13s 52ms/step - loss: 0.4356 - accuracy: 0.8038 - val_loss: 0.4368 - val_accuracy: 0.7968\n",
            "Epoch 28/100\n",
            "250/250 [==============================] - 13s 53ms/step - loss: 0.4318 - accuracy: 0.8030 - val_loss: 0.4400 - val_accuracy: 0.7930\n",
            "Epoch 29/100\n",
            "250/250 [==============================] - 13s 53ms/step - loss: 0.4316 - accuracy: 0.8034 - val_loss: 0.4335 - val_accuracy: 0.7968\n",
            "Epoch 30/100\n",
            "250/250 [==============================] - 13s 52ms/step - loss: 0.4313 - accuracy: 0.8054 - val_loss: 0.4325 - val_accuracy: 0.7985\n",
            "Epoch 31/100\n",
            "250/250 [==============================] - 13s 52ms/step - loss: 0.4292 - accuracy: 0.8044 - val_loss: 0.4333 - val_accuracy: 0.7968\n",
            "Epoch 32/100\n",
            "250/250 [==============================] - 13s 53ms/step - loss: 0.4295 - accuracy: 0.8054 - val_loss: 0.4321 - val_accuracy: 0.7970\n",
            "Epoch 33/100\n",
            "250/250 [==============================] - 13s 53ms/step - loss: 0.4282 - accuracy: 0.8024 - val_loss: 0.4340 - val_accuracy: 0.7962\n",
            "Epoch 34/100\n",
            "250/250 [==============================] - 13s 53ms/step - loss: 0.4271 - accuracy: 0.8082 - val_loss: 0.4322 - val_accuracy: 0.7985\n",
            "Epoch 35/100\n",
            "250/250 [==============================] - 13s 53ms/step - loss: 0.4258 - accuracy: 0.8047 - val_loss: 0.4285 - val_accuracy: 0.8015\n",
            "Epoch 36/100\n",
            "250/250 [==============================] - 13s 53ms/step - loss: 0.4262 - accuracy: 0.8061 - val_loss: 0.4274 - val_accuracy: 0.8012\n",
            "Epoch 37/100\n",
            "250/250 [==============================] - 14s 57ms/step - loss: 0.4240 - accuracy: 0.8069 - val_loss: 0.4310 - val_accuracy: 0.8000\n",
            "Epoch 38/100\n",
            "250/250 [==============================] - 13s 53ms/step - loss: 0.4236 - accuracy: 0.8095 - val_loss: 0.4265 - val_accuracy: 0.8040\n",
            "Epoch 39/100\n",
            "250/250 [==============================] - 13s 53ms/step - loss: 0.4252 - accuracy: 0.8069 - val_loss: 0.4263 - val_accuracy: 0.8027\n",
            "Epoch 40/100\n",
            "250/250 [==============================] - 13s 53ms/step - loss: 0.4247 - accuracy: 0.8093 - val_loss: 0.4287 - val_accuracy: 0.7997\n",
            "Epoch 41/100\n",
            "250/250 [==============================] - 13s 52ms/step - loss: 0.4225 - accuracy: 0.8094 - val_loss: 0.4250 - val_accuracy: 0.8030\n",
            "Epoch 42/100\n",
            "250/250 [==============================] - 13s 53ms/step - loss: 0.4231 - accuracy: 0.8076 - val_loss: 0.4287 - val_accuracy: 0.8012\n",
            "Epoch 43/100\n",
            "250/250 [==============================] - 13s 53ms/step - loss: 0.4193 - accuracy: 0.8102 - val_loss: 0.4281 - val_accuracy: 0.8012\n",
            "Epoch 44/100\n",
            "250/250 [==============================] - 13s 52ms/step - loss: 0.4201 - accuracy: 0.8089 - val_loss: 0.4291 - val_accuracy: 0.8002\n"
          ],
          "name": "stdout"
        }
      ]
    },
    {
      "cell_type": "code",
      "metadata": {
        "colab": {
          "base_uri": "https://localhost:8080/",
          "height": 279
        },
        "id": "UHyaI5n3yEM7",
        "outputId": "d48f8d10-6b2e-43ee-f7d5-5ae0a977101f"
      },
      "source": [
        "plt.plot(history.history['loss'])\n",
        "plt.plot(history.history['val_loss'])\n",
        "plt.xlabel('epoch')\n",
        "plt.ylabel('loss')\n",
        "plt.legend(['train','val'])\n",
        "plt.show()"
      ],
      "execution_count": 51,
      "outputs": [
        {
          "output_type": "display_data",
          "data": {
            "image/png": "[encoded data removed]",
            "text/plain": [
              "<Figure size 432x288 with 1 Axes>"
            ]
          },
          "metadata": {
            "tags": [],
            "needs_background": "light"
          }
        }
      ]
    }
  ]
}